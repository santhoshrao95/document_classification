{
 "cells": [
  {
   "cell_type": "code",
   "execution_count": 4,
   "metadata": {},
   "outputs": [
    {
     "name": "stdout",
     "output_type": "stream",
     "text": [
      "Error: 408\n",
      "{'detail': 'Request timed out while downloading PDF'}\n"
     ]
    }
   ],
   "source": [
    "import requests\n",
    "\n",
    "pdf_url = \"https://media.distributordatasolutions.com/synd_belden/2023q2/documents/5f0c6b432af3b0b140ff34944263e5d45e841124.pdf\" \n",
    "pdf_url = \"https://www.mcgillmicrowave.com/product/lmr-400-coaxial-cable/?attachment_id=1393&download_file=7ikekx37reof24\"\n",
    "pdf_url = \"https://www.te.com/commerce/DocumentDelivery/DDEController?Action=srchrtrv&DocNm=10613&DocType=Customer+Drawing&DocLang=English\"\n",
    "\n",
    "\n",
    "api_url = \"http://localhost:8000/api/v1/classify_pdf/\"\n",
    "\n",
    "response = requests.post(\n",
    "    api_url,\n",
    "    json={\"url\": pdf_url}\n",
    ")\n",
    "\n",
    "if response.status_code == 200:\n",
    "    result = response.json()\n",
    "    print(\"Classification:\", result[\"classification\"])\n",
    "    print(\"Confidence:\", result[\"confidence\"])\n",
    "    print(\"Status:\", result[\"status\"])\n",
    "else:\n",
    "    print(\"Error:\", response.status_code)\n",
    "    print(response.json())"
   ]
  },
  {
   "cell_type": "code",
   "execution_count": null,
   "metadata": {},
   "outputs": [],
   "source": []
  }
 ],
 "metadata": {
  "kernelspec": {
   "display_name": "document_classification_v2",
   "language": "python",
   "name": "python3"
  },
  "language_info": {
   "codemirror_mode": {
    "name": "ipython",
    "version": 3
   },
   "file_extension": ".py",
   "mimetype": "text/x-python",
   "name": "python",
   "nbconvert_exporter": "python",
   "pygments_lexer": "ipython3",
   "version": "3.11.11"
  }
 },
 "nbformat": 4,
 "nbformat_minor": 2
}
