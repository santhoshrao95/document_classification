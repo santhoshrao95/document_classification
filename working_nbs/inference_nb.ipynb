{
 "cells": [
  {
   "cell_type": "code",
   "execution_count": 1,
   "metadata": {},
   "outputs": [
    {
     "ename": "ModuleNotFoundError",
     "evalue": "No module named 'requests'",
     "output_type": "error",
     "traceback": [
      "\u001b[1;31m---------------------------------------------------------------------------\u001b[0m",
      "\u001b[1;31mModuleNotFoundError\u001b[0m                       Traceback (most recent call last)",
      "Cell \u001b[1;32mIn[1], line 1\u001b[0m\n\u001b[1;32m----> 1\u001b[0m \u001b[38;5;28;01mimport\u001b[39;00m \u001b[38;5;21;01mrequests\u001b[39;00m\n\u001b[0;32m      3\u001b[0m pdf_url \u001b[38;5;241m=\u001b[39m \u001b[38;5;124m\"\u001b[39m\u001b[38;5;124mhttps://media.distributordatasolutions.com/synd_belden/2023q2/documents/5f0c6b432af3b0b140ff34944263e5d45e841124.pdf\u001b[39m\u001b[38;5;124m\"\u001b[39m \n\u001b[0;32m      4\u001b[0m pdf_url \u001b[38;5;241m=\u001b[39m \u001b[38;5;124m\"\u001b[39m\u001b[38;5;124mhttps://www.mcgillmicrowave.com/product/lmr-400-coaxial-cable/?attachment_id=1393&download_file=7ikekx37reof24\u001b[39m\u001b[38;5;124m\"\u001b[39m\n",
      "\u001b[1;31mModuleNotFoundError\u001b[0m: No module named 'requests'"
     ]
    }
   ],
   "source": [
    "import requests\n",
    "\n",
    "pdf_url = \"https://media.distributordatasolutions.com/synd_belden/2023q2/documents/5f0c6b432af3b0b140ff34944263e5d45e841124.pdf\"  # expected output: \"Classification: cable Confidence: 1.00 Status: success\"\n",
    "# pdf_url = \"https://www.mcgillmicrowave.com/product/lmr-400-coaxial-cable/?attachment_id=1393&download_file=7ikekx37reof24\"  # expected output: Error: 400 {'detail': 'Error downloading PDF: 403 Client Error: Forbidden for url: https://www.mcgillmicrowave.com/product/lmr-400-coaxial-cable/?attachment_id=1393&download_file=7ikekx37reof24'}\n",
    "# pdf_url = \"https://www.te.com/commerce/DocumentDelivery/DDEController?Action=srchrtrv&DocNm=10613&DocType=Customer+Drawing&DocLang=English\"  # expected output: Error: 408 {'detail': 'Request timed out while downloading PDF'}\n",
    "\n",
    "\n",
    "# api_url = \"http://localhost:8000/api/v1/classify_pdf/\" #local\n",
    "api_url = (\n",
    "    \"https://document-classification-1.onrender.com/api/v1/classify_pdf/\"  # remote\n",
    ")\n",
    "\n",
    "response = requests.post(api_url, json={\"url\": pdf_url})\n",
    "\n",
    "if response.status_code == 200:\n",
    "    result = response.json()\n",
    "    print(\"Classification:\", result[\"classification\"])\n",
    "    print(\"Confidence:\", result[\"confidence\"])\n",
    "    print(\"Status:\", result[\"status\"])\n",
    "else:\n",
    "    print(\"Error:\", response.status_code)\n",
    "    print(response.json())"
   ]
  },
  {
   "cell_type": "code",
   "execution_count": null,
   "metadata": {},
   "outputs": [],
   "source": []
  }
 ],
 "metadata": {
  "kernelspec": {
   "display_name": "document_classification_v2",
   "language": "python",
   "name": "python3"
  },
  "language_info": {
   "codemirror_mode": {
    "name": "ipython",
    "version": 3
   },
   "file_extension": ".py",
   "mimetype": "text/x-python",
   "name": "python",
   "nbconvert_exporter": "python",
   "pygments_lexer": "ipython3",
   "version": "3.12.3"
  }
 },
 "nbformat": 4,
 "nbformat_minor": 2
}
