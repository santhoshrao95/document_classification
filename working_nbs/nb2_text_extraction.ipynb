{
 "cells": [
  {
   "cell_type": "code",
   "execution_count": 14,
   "metadata": {},
   "outputs": [],
   "source": [
    "import os\n",
    "import sys\n",
    "import pandas as pd\n",
    "\n",
    "sys.path.append('/home/workdir/document_classification')\n",
    "from utils.data_extraction.extract_pdf import extract_text_from_pdfs\n"
   ]
  },
  {
   "cell_type": "code",
   "execution_count": 2,
   "metadata": {},
   "outputs": [
    {
     "name": "stdout",
     "output_type": "stream",
     "text": [
      "Found 256 PDF files\n",
      "Processing: doc_6.pdf\n",
      "Error processing doc_6.pdf: EOF marker not found\n",
      "Processing: doc_64.pdf\n"
     ]
    },
    {
     "name": "stdout",
     "output_type": "stream",
     "text": [
      "Processing: doc_379.pdf\n",
      "Processing: doc_122.pdf\n",
      "Processing: doc_128.pdf\n"
     ]
    },
    {
     "name": "stderr",
     "output_type": "stream",
     "text": [
      " impossible to decode XFormObject /Im0\n",
      "Object ID 101,0 ref repaired\n"
     ]
    },
    {
     "name": "stdout",
     "output_type": "stream",
     "text": [
      "Processing: doc_355.pdf\n",
      "Error processing doc_355.pdf: EOF marker not found\n",
      "Processing: doc_170.pdf\n",
      "Processing: doc_164.pdf\n",
      "Processing: doc_297.pdf\n",
      "Error processing doc_297.pdf: EOF marker not found\n",
      "Processing: doc_390.pdf\n",
      "Processing: doc_294.pdf\n",
      "Processing: doc_22.pdf\n",
      "Processing: doc_211.pdf\n",
      "Processing: doc_27.pdf\n",
      "Processing: doc_3.pdf\n",
      "Processing: doc_111.pdf\n",
      "Processing: doc_115.pdf\n"
     ]
    },
    {
     "name": "stderr",
     "output_type": "stream",
     "text": [
      " impossible to decode XFormObject /Im0\n",
      "Object ID 101,0 ref repaired\n"
     ]
    },
    {
     "name": "stdout",
     "output_type": "stream",
     "text": [
      "Processing: doc_263.pdf\n",
      "Processing: doc_336.pdf\n",
      "Processing: doc_173.pdf\n",
      "Processing: doc_103.pdf\n",
      "Error processing doc_103.pdf: EOF marker not found\n",
      "Processing: doc_300.pdf\n",
      "Error processing doc_300.pdf: EOF marker not found\n",
      "Processing: doc_23.pdf\n",
      "Processing: doc_47.pdf\n",
      "Processing: doc_339.pdf\n",
      "Processing: doc_184.pdf\n",
      "Error processing doc_184.pdf: EOF marker not found\n",
      "Processing: doc_330.pdf\n",
      "Processing: doc_353.pdf\n",
      "Processing: doc_117.pdf\n",
      "Processing: doc_373.pdf\n",
      "Error processing doc_373.pdf: EOF marker not found\n",
      "Processing: doc_110.pdf\n",
      "Processing: doc_392.pdf\n",
      "Processing: doc_214.pdf\n",
      "Processing: doc_124.pdf\n",
      "Processing: doc_127.pdf\n",
      "Processing: doc_398.pdf\n"
     ]
    },
    {
     "name": "stderr",
     "output_type": "stream",
     "text": [
      "ignore '/Perms' verify failed\n"
     ]
    },
    {
     "name": "stdout",
     "output_type": "stream",
     "text": [
      "Processing: doc_331.pdf\n",
      "Processing: doc_113.pdf\n",
      "Processing: doc_296.pdf\n",
      "Processing: doc_326.pdf\n",
      "Processing: doc_261.pdf\n",
      "Error processing doc_261.pdf: EOF marker not found\n",
      "Processing: doc_265.pdf\n",
      "Processing: doc_342.pdf\n",
      "Error processing doc_342.pdf: EOF marker not found\n",
      "Processing: doc_79.pdf\n",
      "Processing: doc_68.pdf\n"
     ]
    },
    {
     "name": "stderr",
     "output_type": "stream",
     "text": [
      "Overwriting cache for 0 1324\n"
     ]
    },
    {
     "name": "stdout",
     "output_type": "stream",
     "text": [
      "Processing: doc_357.pdf\n",
      "Processing: doc_30.pdf\n",
      "Processing: doc_126.pdf\n",
      "Processing: doc_107.pdf\n",
      "Processing: doc_72.pdf\n",
      "Processing: doc_219.pdf\n",
      "Processing: doc_76.pdf\n",
      "Processing: doc_266.pdf\n",
      "Error processing doc_266.pdf: EOF marker not found\n",
      "Processing: doc_220.pdf\n",
      "Processing: doc_119.pdf\n",
      "Error processing doc_119.pdf: EOF marker not found\n",
      "Processing: doc_377.pdf\n",
      "Processing: doc_105.pdf\n",
      "Processing: doc_14.pdf\n",
      "Processing: doc_192.pdf\n",
      "Processing: doc_29.pdf\n",
      "Processing: doc_13.pdf\n"
     ]
    },
    {
     "name": "stderr",
     "output_type": "stream",
     "text": [
      " impossible to decode XFormObject /Im0\n",
      "Object ID 101,0 ref repaired\n"
     ]
    },
    {
     "name": "stdout",
     "output_type": "stream",
     "text": [
      "Processing: doc_264.pdf\n",
      "Processing: doc_323.pdf\n",
      "Processing: doc_311.pdf\n",
      "Processing: doc_215.pdf\n",
      "Processing: doc_74.pdf\n",
      "Processing: doc_132.pdf\n",
      "Processing: doc_90.pdf\n",
      "Processing: doc_135.pdf\n",
      "Processing: doc_283.pdf\n",
      "Processing: doc_312.pdf\n",
      "Processing: doc_262.pdf\n",
      "Processing: doc_139.pdf\n",
      "Processing: doc_138.pdf\n",
      "Processing: doc_299.pdf\n",
      "Processing: doc_69.pdf\n",
      "Processing: doc_114.pdf\n",
      "Processing: doc_61.pdf\n",
      "Processing: doc_212.pdf\n",
      "Processing: doc_97.pdf\n",
      "Processing: doc_167.pdf\n",
      "Processing: doc_365.pdf\n",
      "Processing: doc_83.pdf\n",
      "Processing: doc_81.pdf\n",
      "Processing: doc_397.pdf\n",
      "Processing: doc_5.pdf\n",
      "Error processing doc_5.pdf: EOF marker not found\n",
      "Processing: doc_130.pdf\n",
      "Processing: doc_77.pdf\n",
      "Processing: doc_109.pdf\n",
      "Processing: doc_67.pdf\n",
      "Processing: doc_260.pdf\n",
      "Processing: doc_347.pdf\n",
      "Processing: doc_48.pdf\n",
      "Processing: doc_94.pdf\n",
      "Processing: doc_147.pdf\n",
      "Error processing doc_147.pdf: EOF marker not found\n",
      "Processing: doc_21.pdf\n",
      "Processing: doc_324.pdf\n",
      "Processing: doc_144.pdf\n",
      "Processing: doc_1.pdf\n",
      "Processing: doc_290.pdf\n",
      "Processing: doc_123.pdf\n",
      "Error processing doc_123.pdf: EOF marker not found\n",
      "Processing: doc_274.pdf\n"
     ]
    },
    {
     "name": "stderr",
     "output_type": "stream",
     "text": [
      " impossible to decode XFormObject /Im0\n",
      "Object ID 101,0 ref repaired\n"
     ]
    },
    {
     "name": "stdout",
     "output_type": "stream",
     "text": [
      "Processing: doc_286.pdf\n",
      "Error processing doc_286.pdf: EOF marker not found\n",
      "Processing: doc_396.pdf\n",
      "Error processing doc_396.pdf: EOF marker not found\n",
      "Processing: doc_189.pdf\n",
      "Processing: doc_320.pdf\n",
      "Processing: doc_281.pdf\n",
      "Processing: doc_20.pdf\n",
      "Processing: doc_15.pdf\n",
      "Processing: doc_348.pdf\n",
      "Processing: doc_70.pdf\n"
     ]
    },
    {
     "name": "stderr",
     "output_type": "stream",
     "text": [
      " impossible to decode XFormObject /Im0\n",
      "Object ID 101,0 ref repaired\n"
     ]
    },
    {
     "name": "stdout",
     "output_type": "stream",
     "text": [
      "Processing: doc_197.pdf\n",
      "Processing: doc_343.pdf\n",
      "Processing: doc_333.pdf\n",
      "Processing: doc_352.pdf\n",
      "Processing: doc_63.pdf\n",
      "Processing: doc_301.pdf\n",
      "Error processing doc_301.pdf: EOF marker not found\n",
      "Processing: doc_91.pdf\n",
      "Processing: doc_277.pdf\n",
      "Processing: doc_7.pdf\n",
      "Error processing doc_7.pdf: EOF marker not found\n",
      "Processing: doc_240.pdf\n",
      "Processing: doc_335.pdf\n",
      "Processing: doc_78.pdf\n",
      "Processing: doc_245.pdf\n",
      "Processing: doc_334.pdf\n",
      "Processing: doc_202.pdf\n",
      "Processing: doc_395.pdf\n",
      "Processing: doc_4.pdf\n",
      "Processing: doc_140.pdf\n",
      "Processing: doc_141.pdf\n",
      "Processing: doc_228.pdf\n",
      "Processing: doc_19.pdf\n",
      "Processing: doc_143.pdf\n",
      "Processing: doc_384.pdf\n",
      "Processing: doc_351.pdf\n",
      "Processing: doc_295.pdf\n",
      "Processing: doc_96.pdf\n",
      "Processing: doc_89.pdf\n",
      "Processing: doc_317.pdf\n",
      "Processing: doc_95.pdf\n",
      "Processing: doc_276.pdf\n",
      "Processing: doc_149.pdf\n",
      "Processing: doc_381.pdf\n",
      "Error processing doc_381.pdf: EOF marker not found\n",
      "Processing: doc_9.pdf\n",
      "Error processing doc_9.pdf: EOF marker not found\n",
      "Processing: doc_86.pdf\n",
      "Processing: doc_349.pdf\n",
      "Error processing doc_349.pdf: EOF marker not found\n",
      "Processing: doc_10.pdf\n",
      "Error processing doc_10.pdf: EOF marker not found\n",
      "Processing: doc_293.pdf\n",
      "Processing: doc_84.pdf\n"
     ]
    },
    {
     "name": "stderr",
     "output_type": "stream",
     "text": [
      " impossible to decode XFormObject /Im0\n",
      "Object ID 101,0 ref repaired\n"
     ]
    },
    {
     "name": "stdout",
     "output_type": "stream",
     "text": [
      "Processing: doc_166.pdf\n",
      "Processing: doc_75.pdf\n",
      "Processing: doc_279.pdf\n",
      "Processing: doc_37.pdf\n",
      "Processing: doc_116.pdf\n",
      "Error processing doc_116.pdf: EOF marker not found\n",
      "Processing: doc_367.pdf\n",
      "Processing: doc_231.pdf\n",
      "Error processing doc_231.pdf: EOF marker not found\n",
      "Processing: doc_82.pdf\n"
     ]
    },
    {
     "name": "stderr",
     "output_type": "stream",
     "text": [
      " impossible to decode XFormObject /Im0\n",
      "Object ID 101,0 ref repaired\n"
     ]
    },
    {
     "name": "stdout",
     "output_type": "stream",
     "text": [
      "Processing: doc_161.pdf\n",
      "Error processing doc_161.pdf: EOF marker not found\n",
      "Processing: doc_278.pdf\n",
      "Error processing doc_278.pdf: EOF marker not found\n",
      "Processing: doc_194.pdf\n",
      "Processing: doc_358.pdf\n",
      "Processing: doc_213.pdf\n",
      "Processing: doc_163.pdf\n",
      "Error processing doc_163.pdf: EOF marker not found\n",
      "Processing: doc_11.pdf\n",
      "Error processing doc_11.pdf: EOF marker not found\n",
      "Processing: doc_145.pdf\n",
      "Processing: doc_227.pdf\n",
      "Processing: doc_393.pdf\n",
      "Processing: doc_108.pdf\n",
      "Processing: doc_305.pdf\n",
      "Processing: doc_303.pdf\n",
      "Processing: doc_308.pdf\n",
      "Processing: doc_304.pdf\n",
      "Processing: doc_49.pdf\n",
      "Processing: doc_148.pdf\n",
      "Processing: doc_388.pdf\n",
      "Processing: doc_62.pdf\n",
      "Processing: doc_73.pdf\n",
      "Processing: doc_118.pdf\n",
      "Processing: doc_134.pdf\n",
      "Error processing doc_134.pdf: EOF marker not found\n",
      "Processing: doc_315.pdf\n",
      "Processing: doc_302.pdf\n",
      "Processing: doc_50.pdf\n",
      "Processing: doc_121.pdf\n",
      "Processing: doc_272.pdf\n"
     ]
    },
    {
     "name": "stderr",
     "output_type": "stream",
     "text": [
      " impossible to decode XFormObject /Im0\n",
      "Object ID 101,0 ref repaired\n"
     ]
    },
    {
     "name": "stdout",
     "output_type": "stream",
     "text": [
      "Processing: doc_208.pdf\n",
      "Processing: doc_142.pdf\n",
      "Processing: doc_314.pdf\n",
      "Processing: doc_71.pdf\n",
      "Processing: doc_275.pdf\n",
      "Processing: doc_216.pdf\n",
      "Processing: doc_12.pdf\n",
      "Processing: doc_196.pdf\n",
      "Processing: doc_391.pdf\n",
      "Error processing doc_391.pdf: EOF marker not found\n",
      "Processing: doc_287.pdf\n",
      "Processing: doc_25.pdf\n",
      "Processing: doc_195.pdf\n",
      "Processing: doc_389.pdf\n",
      "Error processing doc_389.pdf: EOF marker not found\n",
      "Processing: doc_201.pdf\n",
      "Processing: doc_8.pdf\n",
      "Error processing doc_8.pdf: EOF marker not found\n",
      "Processing: doc_310.pdf\n",
      "Processing: doc_112.pdf\n",
      "Processing: doc_146.pdf\n"
     ]
    },
    {
     "name": "stderr",
     "output_type": "stream",
     "text": [
      " impossible to decode XFormObject /Im0\n",
      "Object ID 101,0 ref repaired\n"
     ]
    },
    {
     "name": "stdout",
     "output_type": "stream",
     "text": [
      "Processing: doc_0.pdf\n",
      "Processing: doc_200.pdf\n",
      "Processing: doc_280.pdf\n",
      "Processing: doc_28.pdf\n",
      "Processing: doc_198.pdf\n",
      "Processing: doc_43.pdf\n",
      "Processing: doc_65.pdf\n"
     ]
    },
    {
     "name": "stderr",
     "output_type": "stream",
     "text": [
      " impossible to decode XFormObject /Im0\n",
      "Object ID 101,0 ref repaired\n"
     ]
    },
    {
     "name": "stdout",
     "output_type": "stream",
     "text": [
      "Processing: doc_222.pdf\n",
      "Processing: doc_374.pdf\n",
      "Processing: doc_206.pdf\n",
      "Processing: doc_193.pdf\n",
      "Processing: doc_125.pdf\n"
     ]
    },
    {
     "name": "stderr",
     "output_type": "stream",
     "text": [
      " impossible to decode XFormObject /Im0\n",
      "Object ID 101,0 ref repaired\n"
     ]
    },
    {
     "name": "stdout",
     "output_type": "stream",
     "text": [
      "Processing: doc_66.pdf\n",
      "Processing: doc_221.pdf\n",
      "Processing: doc_399.pdf\n",
      "Processing: doc_292.pdf\n",
      "Processing: doc_2.pdf\n",
      "Processing: doc_46.pdf\n"
     ]
    },
    {
     "name": "stderr",
     "output_type": "stream",
     "text": [
      "Overwriting cache for 0 1324\n"
     ]
    },
    {
     "name": "stdout",
     "output_type": "stream",
     "text": [
      "Processing: doc_190.pdf\n",
      "Processing: doc_236.pdf\n",
      "Error processing doc_236.pdf: EOF marker not found\n",
      "Processing: doc_137.pdf\n"
     ]
    },
    {
     "name": "stderr",
     "output_type": "stream",
     "text": [
      " impossible to decode XFormObject /Im0\n",
      "Object ID 101,0 ref repaired\n",
      " impossible to decode XFormObject /Im0\n",
      "Object ID 101,0 ref repaired\n"
     ]
    },
    {
     "name": "stdout",
     "output_type": "stream",
     "text": [
      "Processing: doc_187.pdf\n",
      "Error processing doc_187.pdf: EOF marker not found\n",
      "Processing: doc_291.pdf\n",
      "Processing: doc_346.pdf\n",
      "Processing: doc_209.pdf\n",
      "Processing: doc_242.pdf\n",
      "Processing: doc_203.pdf\n",
      "Processing: doc_205.pdf\n",
      "Processing: doc_93.pdf\n",
      "Processing: doc_120.pdf\n",
      "Error processing doc_120.pdf: EOF marker not found\n",
      "Processing: doc_26.pdf\n",
      "Processing: doc_136.pdf\n",
      "Processing: doc_332.pdf\n",
      "Processing: doc_289.pdf\n",
      "Processing: doc_101.pdf\n",
      "Error processing doc_101.pdf: EOF marker not found\n",
      "Processing: doc_85.pdf\n",
      "Processing: doc_100.pdf\n",
      "Processing: doc_176.pdf\n",
      "Processing: doc_88.pdf\n",
      "Processing: doc_371.pdf\n",
      "Processing: doc_174.pdf\n",
      "Processing: doc_24.pdf\n",
      "Processing: doc_284.pdf\n",
      "Processing: doc_344.pdf\n",
      "Processing: doc_217.pdf\n",
      "Processing: doc_106.pdf\n",
      "Processing: doc_133.pdf\n",
      "Processing: doc_171.pdf\n",
      "Processing: doc_129.pdf\n",
      "Processing: doc_45.pdf\n",
      "Error processing doc_45.pdf: EOF marker not found\n",
      "Processing: doc_53.pdf\n",
      "Processing: doc_247.pdf\n",
      "Processing: doc_80.pdf\n",
      "Processing: doc_92.pdf\n",
      "\n",
      "Extraction Summary:\n",
      "Total PDFs processed: 256\n",
      "Successfully extracted: 219\n",
      "Failed: 37\n"
     ]
    }
   ],
   "source": [
    "pdf_dir = \"/home/ /workdir/document_classification/data/test_pdfs\"\n",
    "df_results = extract_text_from_pdfs(pdf_dir)"
   ]
  },
  {
   "cell_type": "code",
   "execution_count": 3,
   "metadata": {},
   "outputs": [
    {
     "data": {
      "text/html": [
       "<div>\n",
       "<style scoped>\n",
       "    .dataframe tbody tr th:only-of-type {\n",
       "        vertical-align: middle;\n",
       "    }\n",
       "\n",
       "    .dataframe tbody tr th {\n",
       "        vertical-align: top;\n",
       "    }\n",
       "\n",
       "    .dataframe thead th {\n",
       "        text-align: right;\n",
       "    }\n",
       "</style>\n",
       "<table border=\"1\" class=\"dataframe\">\n",
       "  <thead>\n",
       "    <tr style=\"text-align: right;\">\n",
       "      <th></th>\n",
       "      <th>filename</th>\n",
       "      <th>num_pages</th>\n",
       "      <th>text</th>\n",
       "      <th>status</th>\n",
       "    </tr>\n",
       "  </thead>\n",
       "  <tbody>\n",
       "    <tr>\n",
       "      <th>0</th>\n",
       "      <td>doc_6.pdf</td>\n",
       "      <td>NaN</td>\n",
       "      <td>None</td>\n",
       "      <td>Failed: EOF marker not found</td>\n",
       "    </tr>\n",
       "    <tr>\n",
       "      <th>1</th>\n",
       "      <td>doc_64.pdf</td>\n",
       "      <td>3.0</td>\n",
       "      <td>PRODUCT FEATURES:\\n »High-output, high-CRI LED...</td>\n",
       "      <td>Success</td>\n",
       "    </tr>\n",
       "    <tr>\n",
       "      <th>2</th>\n",
       "      <td>doc_379.pdf</td>\n",
       "      <td>3.0</td>\n",
       "      <td>REV 1.1   Page 1 of 3\\nCopyright © 2019\\nElect...</td>\n",
       "      <td>Success</td>\n",
       "    </tr>\n",
       "    <tr>\n",
       "      <th>3</th>\n",
       "      <td>doc_122.pdf</td>\n",
       "      <td>4.0</td>\n",
       "      <td>Type C1T  \\nSurface Mount Slow Blow Chip Fuse ...</td>\n",
       "      <td>Success</td>\n",
       "    </tr>\n",
       "    <tr>\n",
       "      <th>4</th>\n",
       "      <td>doc_128.pdf</td>\n",
       "      <td>4.0</td>\n",
       "      <td>Fuse Datasheet© 2021 Littelfuse, Inc.\\nSpecifi...</td>\n",
       "      <td>Success</td>\n",
       "    </tr>\n",
       "  </tbody>\n",
       "</table>\n",
       "</div>"
      ],
      "text/plain": [
       "      filename  num_pages                                               text  \\\n",
       "0    doc_6.pdf        NaN                                               None   \n",
       "1   doc_64.pdf        3.0  PRODUCT FEATURES:\\n »High-output, high-CRI LED...   \n",
       "2  doc_379.pdf        3.0  REV 1.1   Page 1 of 3\\nCopyright © 2019\\nElect...   \n",
       "3  doc_122.pdf        4.0  Type C1T  \\nSurface Mount Slow Blow Chip Fuse ...   \n",
       "4  doc_128.pdf        4.0  Fuse Datasheet© 2021 Littelfuse, Inc.\\nSpecifi...   \n",
       "\n",
       "                         status  \n",
       "0  Failed: EOF marker not found  \n",
       "1                       Success  \n",
       "2                       Success  \n",
       "3                       Success  \n",
       "4                       Success  "
      ]
     },
     "execution_count": 3,
     "metadata": {},
     "output_type": "execute_result"
    }
   ],
   "source": [
    "df_results.head(5)"
   ]
  },
  {
   "cell_type": "code",
   "execution_count": 4,
   "metadata": {},
   "outputs": [
    {
     "data": {
      "text/plain": [
       "array(['Failed: EOF marker not found', 'Success'], dtype=object)"
      ]
     },
     "execution_count": 4,
     "metadata": {},
     "output_type": "execute_result"
    }
   ],
   "source": [
    "df_results['status'].unique()"
   ]
  },
  {
   "cell_type": "code",
   "execution_count": 5,
   "metadata": {},
   "outputs": [
    {
     "data": {
      "text/plain": [
       "219"
      ]
     },
     "execution_count": 5,
     "metadata": {},
     "output_type": "execute_result"
    }
   ],
   "source": [
    "sum(df_results[\"status\"] == \"Success\")"
   ]
  },
  {
   "cell_type": "code",
   "execution_count": 7,
   "metadata": {},
   "outputs": [
    {
     "data": {
      "text/html": [
       "<div>\n",
       "<style scoped>\n",
       "    .dataframe tbody tr th:only-of-type {\n",
       "        vertical-align: middle;\n",
       "    }\n",
       "\n",
       "    .dataframe tbody tr th {\n",
       "        vertical-align: top;\n",
       "    }\n",
       "\n",
       "    .dataframe thead th {\n",
       "        text-align: right;\n",
       "    }\n",
       "</style>\n",
       "<table border=\"1\" class=\"dataframe\">\n",
       "  <thead>\n",
       "    <tr style=\"text-align: right;\">\n",
       "      <th></th>\n",
       "      <th>filename</th>\n",
       "      <th>num_pages</th>\n",
       "      <th>text</th>\n",
       "      <th>status</th>\n",
       "    </tr>\n",
       "  </thead>\n",
       "  <tbody>\n",
       "    <tr>\n",
       "      <th>1</th>\n",
       "      <td>doc_64.pdf</td>\n",
       "      <td>3.0</td>\n",
       "      <td>PRODUCT FEATURES:\\n »High-output, high-CRI LED...</td>\n",
       "      <td>Success</td>\n",
       "    </tr>\n",
       "    <tr>\n",
       "      <th>2</th>\n",
       "      <td>doc_379.pdf</td>\n",
       "      <td>3.0</td>\n",
       "      <td>REV 1.1   Page 1 of 3\\nCopyright © 2019\\nElect...</td>\n",
       "      <td>Success</td>\n",
       "    </tr>\n",
       "    <tr>\n",
       "      <th>3</th>\n",
       "      <td>doc_122.pdf</td>\n",
       "      <td>4.0</td>\n",
       "      <td>Type C1T  \\nSurface Mount Slow Blow Chip Fuse ...</td>\n",
       "      <td>Success</td>\n",
       "    </tr>\n",
       "    <tr>\n",
       "      <th>4</th>\n",
       "      <td>doc_128.pdf</td>\n",
       "      <td>4.0</td>\n",
       "      <td>Fuse Datasheet© 2021 Littelfuse, Inc.\\nSpecifi...</td>\n",
       "      <td>Success</td>\n",
       "    </tr>\n",
       "    <tr>\n",
       "      <th>6</th>\n",
       "      <td>doc_170.pdf</td>\n",
       "      <td>4.0</td>\n",
       "      <td>Offering solutions for a wide \\nrange of appli...</td>\n",
       "      <td>Success</td>\n",
       "    </tr>\n",
       "    <tr>\n",
       "      <th>7</th>\n",
       "      <td>doc_164.pdf</td>\n",
       "      <td>1.0</td>\n",
       "      <td>Rivet s\\nMateri al: Plastic\\nColor: Black\\nFir...</td>\n",
       "      <td>Success</td>\n",
       "    </tr>\n",
       "    <tr>\n",
       "      <th>9</th>\n",
       "      <td>doc_390.pdf</td>\n",
       "      <td>3.0</td>\n",
       "      <td>2200 USHighway 27South\\nRichmond, IN47374\\nTel...</td>\n",
       "      <td>Success</td>\n",
       "    </tr>\n",
       "    <tr>\n",
       "      <th>10</th>\n",
       "      <td>doc_294.pdf</td>\n",
       "      <td>3.0</td>\n",
       "      <td>2200 USHighway 27South\\nRichmond, IN47374\\nTel...</td>\n",
       "      <td>Success</td>\n",
       "    </tr>\n",
       "    <tr>\n",
       "      <th>11</th>\n",
       "      <td>doc_22.pdf</td>\n",
       "      <td>5.0</td>\n",
       "      <td>currentlighting.com/exo\\n© 2023 HLI Solutions,...</td>\n",
       "      <td>Success</td>\n",
       "    </tr>\n",
       "    <tr>\n",
       "      <th>12</th>\n",
       "      <td>doc_211.pdf</td>\n",
       "      <td>4.0</td>\n",
       "      <td>Offering solutions for a wide \\nrange of appli...</td>\n",
       "      <td>Success</td>\n",
       "    </tr>\n",
       "  </tbody>\n",
       "</table>\n",
       "</div>"
      ],
      "text/plain": [
       "       filename  num_pages                                               text  \\\n",
       "1    doc_64.pdf        3.0  PRODUCT FEATURES:\\n »High-output, high-CRI LED...   \n",
       "2   doc_379.pdf        3.0  REV 1.1   Page 1 of 3\\nCopyright © 2019\\nElect...   \n",
       "3   doc_122.pdf        4.0  Type C1T  \\nSurface Mount Slow Blow Chip Fuse ...   \n",
       "4   doc_128.pdf        4.0  Fuse Datasheet© 2021 Littelfuse, Inc.\\nSpecifi...   \n",
       "6   doc_170.pdf        4.0  Offering solutions for a wide \\nrange of appli...   \n",
       "7   doc_164.pdf        1.0  Rivet s\\nMateri al: Plastic\\nColor: Black\\nFir...   \n",
       "9   doc_390.pdf        3.0  2200 USHighway 27South\\nRichmond, IN47374\\nTel...   \n",
       "10  doc_294.pdf        3.0  2200 USHighway 27South\\nRichmond, IN47374\\nTel...   \n",
       "11   doc_22.pdf        5.0  currentlighting.com/exo\\n© 2023 HLI Solutions,...   \n",
       "12  doc_211.pdf        4.0  Offering solutions for a wide \\nrange of appli...   \n",
       "\n",
       "     status  \n",
       "1   Success  \n",
       "2   Success  \n",
       "3   Success  \n",
       "4   Success  \n",
       "6   Success  \n",
       "7   Success  \n",
       "9   Success  \n",
       "10  Success  \n",
       "11  Success  \n",
       "12  Success  "
      ]
     },
     "execution_count": 7,
     "metadata": {},
     "output_type": "execute_result"
    }
   ],
   "source": [
    "df_results[df_results[\"status\"] == \"Success\"].head(10)\n"
   ]
  },
  {
   "cell_type": "code",
   "execution_count": 12,
   "metadata": {},
   "outputs": [
    {
     "data": {
      "text/plain": [
       "'Offering solutions for a wide \\nrange of applications such as...\\nComputer & PeripheralServer/Data Center\\nSmartphone & Tablet\\nIoT DevicesISODAMP™ C-8000 SERIES\\nMaterial Summary Sheet 51\\nAearo Technologies LLC  •  a 3M company\\n\\n\\nMATERIAL SUMMARY SHEET 51 ISODAMP™ C-8000 SERIES\\nISODAMP™ C-8000 SERIES  \\n•  Highly damped thermoplastic molded products for  \\nnoise, shock and vibration control\\n• RoHS Compliant• Non-halogenated\\n• Listed UL 94 V-0 flame rating• Available in durometers from 40 to 88 Type A\\nPROPERTY C-8012 C-8002 C-8070 C-8130\\nDescription TPE Solid  \\nThermoplasticTPE Solid \\nThermoplasticTPE Solid \\nThermoplasticTPE Solid \\nThermoplastic\\nHardness  \\nASTM D2240  \\nType A Durometer 23C (73F)  \\n15 sec impact 40 51 70 88\\nCompression Load Deflection kPa (psi)  \\nASTM D575 at 0.51 cm/min (0.2 in/min)  \\n    10% kPa (psi) \\n \\n324 (47)  \\n455 (66)  \\n951 (138)  \\n3619 (525)\\n    20% kPa (psi) 627 (91) 883 (128) 1799 (261) 6494 (942)\\n    30% kPa (psi) 958 (139) 1358 (197) 2799 (406) 9087 (1318)\\nCompression Set (%)  \\nASTM D395 Method B  \\n    22 hr at 22C (72F) 12 15 15 35\\n    22 hr at 70C (158F) 100 99 98 90\\nTensile Strength kPa (psi)  \\nASTM D4123309  \\n(480)5309  \\n(770)10059  \\n(1459)11279  \\n(1636)\\nTear Strength kN/m (lbf/in)  \\nASTM D62418 \\n(100)25 \\n(141)50 \\n(285)72 \\n(410)\\nTemperature Range C  \\nPeak Damping Performance  \\nTemperature Range  \\n     @ 10 Hz \\n-26 to 22 -6 to 37 4 to 42 5 to 27\\n     @ 100 Hz -19 to 35 -2 to 50 8 to 53 10 to 34\\n     @ 1000 Hz -13 to 55 4 to 71 14 to 68 16 to 41\\nFlammability  \\nUL 94Listed V-0 @  \\n6 mm (0.24 in)Listed V-0 @  \\n3.4 mm (0.13 in)Listed V-0 @  \\n3.2 mm (0.125 in)Listed V-0 @  \\n3.5 mm (0.14 in)\\nRoHS Compliant Yes Yes Yes Yes\\nHalogen Free* Yes Yes Yes Yes\\nThe above technical information and data should be considered representative or typical only and should not be used for specification purpose.  \\n**Halogen-free per IEC 61249-2-21.  \\n3M, E-A-R, and ISODAMP are trademarks  \\nof 3M Company and its affiliates\\nprinted 5/17Aearo Technologies LLC  •  a 3M company\\n7911 Zionsville Road, Indianapolis, IN  46268\\nU.S. Toll Free: 877-327-4332   Web: www.earglobal.com   solutions@earglobal.comTYPICAL PROPERTIES\\n\\nprinted 5/17Aearo Technologies LLC  •  a 3M company\\n7911 Zionsville Road, Indianapolis, IN  46268\\nU.S. Toll Free: 877-327-4332   Office: 651-575-0151   Web: www.earglobal.com   solutions@earglobal.comMATERIAL SUMMARY SHEET 51 ISODAMP™ C-8000 SERIES\\nC-8012Shear Modulus (MPa)/(Loss Factor)\\nReduced Frequency (Hz)\\nFrequency (Hz)C-8002Shear Modulus (MPa)/(Loss Factor)\\nReduced Frequency (Hz)\\nFrequency (Hz)\\nC-8070Shear Modulus (MPa)/(Loss Factor)\\nReduced Frequency (Hz)\\nFrequency (Hz)C-8130Shear Modulus (MPa)/(Loss Factor)\\nReduced Frequency (Hz)\\nFrequency (Hz)\\n3M, E-A-R, and ISODAMP are trademarks  \\nof 3M Company and its affiliates0.1110100100010000\\n1.E-011.E+001.E+011.E+021.E+031.E+04\\n1.00E -05 1.00E -03 1.00E -01 1.00E+01 1.00E+03 1.00E+05 1.00E+07 1.00E+09 1.00E+11\\nFrequency (Hz)Shear Modulus (MPa) / (Loss Factor)\\nReduced Frequency (Hz)Isodamp C -8002\\n80   70  60    50         40        30            20               10                          0                                 -10°C\\n(1.0)\\n(0.1)\\n          May 13, 2013 - Orig  0.1110100100010000\\n1.E-011.E+001.E+011.E+021.E+031.E+04\\n1.00E -04 1.00E -02 1.00E+00 1.00E+02 1.00E+04 1.00E+06 1.00E+08 1.00E+10 1.00E+12\\nFrequency (Hz)Shear Modulus (MPa) / (Loss Factor)\\nReduced Frequency (Hz)Isodamp C -8012\\n             40        30           20         10                 0                  - 10                         -20                                   -30°C\\n(1.0)\\n(0.1)\\nMay  13, 2013 - Orig  \\n110100100010000\\n1.E+001.E+011.E+021.E+031.E+04\\n1.00E -06 1.00E -04 1.00E -02 1.00E+00 1.00E+02 1.00E+04 1.00E+06 1.00E+08 1.00E+10\\nFrequency (Hz)Shear Modulus (MPa) / (Loss Factor)\\nReduced Frequency (Hz)Isodamp C -8130\\n(1.0)\\n(0.1)     80           70         60             50                     40                   30                     20                     10                             0                                  - 10°C\\nMay 13, 2013 - Orig  110100100010000\\n1.E+001.E+011.E+021.E+031.E+04\\n1.00E -05 1.00E -03 1.00E -01 1.00E+01 1.00E+03 1.00E+05 1.00E+07 1.00E+09 1.00E+11\\nFrequency (Hz)Shear Modulus (MPa) / Loss Factor \\nReduced Frequency (Hz)Isodamp C -8070\\n(1.0)\\n(0.1)80       70     60       50           40            30                20                     10                              0                                         -10°C     \\n                       May 29, 2013 - Preliminary  \\n\\nprinted 5/17\\nAearo Technologies LLC  •  a 3M company\\n7911 Zionsville Road, Indianapolis, IN  46268\\nU.S. Toll Free: 877-327-4332   Web: www.earglobal.com   solutions@earglobal.comTechnical Information: The technical information, recommendations and other statements contained in this document are based upon tests or experience that Aearo Technologies LLC believes are \\nreliable, but the accuracy or completeness of such information is not guaranteed.   \\nProduct Use: Many factors beyond Aearo’s control and uniquely within user’s knowledge and control can affect the use and performance of an Aearo Technologies LLC product in a particular \\napplication. Given the variety of factors that can affect the use and performance of an Aearo Technologies LLC product, user is solely responsible for evaluating the Aearo Technologies LLC product \\nand determining whether it is fit for a particular purpose and suitable for user’s method of application.  \\nWarranty, Limited Remedy, and Disclaimer: Unless an additional warranty is specifically stated on the applicable Aearo Technologies LLC product packaging or product literature, Aearo \\nTechnologies LLC warrants that each Aearo Technologies LLC product meets the applicable Aearo Technologies LLC product specification at the time Aearo Technologies LLC ships the product.  Aearo Technologies LLC MAKES NO OTHER WARRANTIES OR CONDITIONS, EXPRESS OR IMPLIED, INCLUDING, BUT NOT LIMITED TO, ANY IMPLIED WARRANTY OR CONDITION OF MERCHANTABILITY OR FITNESS FOR A PARTICULAR PURPOSE OR ANY IMPLIED WARRANTY OR CONDITION ARISING OUT OF A COURSE OF DEALING, CUSTOM OR USAGE OF TRADE.  If the Aearo Technologies LLC \\nproduct does not conform to this warranty, then the sole and exclusive remedy is, at Aearo Technologies LLC’s option, replacement of the Aearo Technologies LLC product or refund of the purchase price.  \\nLimitation of Liability: Except where prohibited by law, Aearo Technologies LLC will not be liable for any loss or damage arising from the Aearo Technologies LLC product, whether direct, indirect, \\nspecial, incidental or consequential, regardless of the legal theory asserted, including warranty, contract, negligence or strict liability.\\n3M, E-A-R, and ISODAMP are trademarks  \\nof 3M Company and its affiliates'"
      ]
     },
     "execution_count": 12,
     "metadata": {},
     "output_type": "execute_result"
    }
   ],
   "source": [
    "df_results[df_results[\"status\"] == \"Success\"].iloc[25]['text']"
   ]
  },
  {
   "cell_type": "code",
   "execution_count": 15,
   "metadata": {},
   "outputs": [],
   "source": [
    "df_results.to_csv(\n",
    "    \"/home/ /workdir/document_classification/data/v0/test/pdf_extraction_pypdf2_results.csv\",\n",
    "    index=False,\n",
    ")"
   ]
  },
  {
   "cell_type": "code",
   "execution_count": 16,
   "metadata": {},
   "outputs": [
    {
     "name": "stderr",
     "output_type": "stream",
     "text": [
      "ignore '/Perms' verify failed\n"
     ]
    },
    {
     "name": "stdout",
     "output_type": "stream",
     "text": [
      "Found 1653 PDF files\n",
      "Processing: doc_1329.pdf\n",
      "Error processing doc_1329.pdf: EOF marker not found\n",
      "Processing: doc_6.pdf\n",
      "Processing: doc_915.pdf\n",
      "Error processing doc_915.pdf: EOF marker not found\n",
      "Processing: doc_1459.pdf\n",
      "Error processing doc_1459.pdf: EOF marker not found\n",
      "Processing: doc_1475.pdf\n",
      "Error processing doc_1475.pdf: EOF marker not found\n",
      "Processing: doc_2132.pdf\n",
      "Processing: doc_566.pdf\n",
      "Processing: doc_1208.pdf\n",
      "Processing: doc_522.pdf\n",
      "Processing: doc_1370.pdf\n",
      "Error processing doc_1370.pdf: EOF marker not found\n",
      "Processing: doc_1389.pdf\n",
      "Error processing doc_1389.pdf: EOF marker not found\n",
      "Processing: doc_592.pdf\n",
      "Processing: doc_786.pdf\n",
      "Processing: doc_2179.pdf\n",
      "Processing: doc_1603.pdf\n",
      "Processing: doc_458.pdf\n",
      "Error processing doc_458.pdf: Cannot read an empty file\n",
      "Processing: doc_2569.pdf\n",
      "Processing: doc_1956.pdf\n",
      "Processing: doc_1438.pdf\n",
      "Error processing doc_1438.pdf: EOF marker not found\n",
      "Processing: doc_2024.pdf\n",
      "Processing: doc_495.pdf\n",
      "Processing: doc_769.pdf\n"
     ]
    },
    {
     "name": "stderr",
     "output_type": "stream",
     "text": [
      "Overwriting cache for 0 815\n"
     ]
    },
    {
     "name": "stdout",
     "output_type": "stream",
     "text": [
      "Processing: doc_983.pdf\n",
      "Processing: doc_2334.pdf\n",
      "Error processing doc_2334.pdf: EOF marker not found\n",
      "Processing: doc_64.pdf\n",
      "Processing: doc_1116.pdf\n",
      "Processing: doc_2244.pdf\n",
      "Error processing doc_2244.pdf: EOF marker not found\n",
      "Processing: doc_150.pdf\n",
      "Error processing doc_150.pdf: EOF marker not found\n",
      "Processing: doc_1926.pdf\n",
      "Processing: doc_440.pdf\n",
      "Processing: doc_1462.pdf\n",
      "Error processing doc_1462.pdf: EOF marker not found\n",
      "Processing: doc_968.pdf\n",
      "Processing: doc_2317.pdf\n",
      "Processing: doc_1335.pdf\n",
      "Error processing doc_1335.pdf: EOF marker not found\n",
      "Processing: doc_1168.pdf\n",
      "Processing: doc_1676.pdf\n",
      "Processing: doc_493.pdf\n",
      "Processing: doc_1407.pdf\n",
      "Error processing doc_1407.pdf: EOF marker not found\n",
      "Processing: doc_1928.pdf\n",
      "Processing: doc_2009.pdf\n",
      "Processing: doc_843.pdf\n",
      "Processing: doc_1770.pdf\n",
      "Processing: doc_1141.pdf\n",
      "Processing: doc_1341.pdf\n",
      "Error processing doc_1341.pdf: EOF marker not found\n",
      "Processing: doc_1700.pdf\n",
      "Processing: doc_804.pdf\n",
      "Processing: doc_1065.pdf\n",
      "Processing: doc_1901.pdf\n",
      "Processing: doc_609.pdf\n",
      "Processing: doc_824.pdf\n",
      "Processing: doc_2222.pdf\n",
      "Processing: doc_160.pdf\n",
      "Processing: doc_938.pdf\n",
      "Error processing doc_938.pdf: EOF marker not found\n",
      "Processing: doc_382.pdf\n",
      "Processing: doc_1557.pdf\n",
      "Processing: doc_2289.pdf\n",
      "Processing: doc_355.pdf\n",
      "Processing: doc_2129.pdf\n",
      "Processing: doc_131.pdf\n",
      "Processing: doc_1351.pdf\n",
      "Error processing doc_1351.pdf: EOF marker not found\n",
      "Processing: doc_170.pdf\n",
      "Processing: doc_2304.pdf\n",
      "Processing: doc_2016.pdf\n",
      "Error processing doc_2016.pdf: EOF marker not found\n",
      "Processing: doc_2037.pdf\n",
      "Processing: doc_1911.pdf\n",
      "Processing: doc_1474.pdf\n",
      "Error processing doc_1474.pdf: EOF marker not found\n",
      "Processing: doc_802.pdf\n",
      "Processing: doc_390.pdf\n",
      "Processing: doc_294.pdf\n",
      "Processing: doc_1117.pdf\n",
      "Error processing doc_1117.pdf: EOF marker not found\n",
      "Processing: doc_1471.pdf\n",
      "Error processing doc_1471.pdf: EOF marker not found\n",
      "Processing: doc_22.pdf\n",
      "Processing: doc_1964.pdf\n",
      "Processing: doc_1067.pdf\n",
      "Error processing doc_1067.pdf: EOF marker not found\n",
      "Processing: doc_1458.pdf\n",
      "Error processing doc_1458.pdf: EOF marker not found\n",
      "Processing: doc_162.pdf\n",
      "Processing: doc_872.pdf\n",
      "Processing: doc_2511.pdf\n",
      "Processing: doc_616.pdf\n",
      "Processing: doc_1347.pdf\n",
      "Error processing doc_1347.pdf: EOF marker not found\n",
      "Processing: doc_1896.pdf\n",
      "Processing: doc_2491.pdf\n",
      "Error processing doc_2491.pdf: EOF marker not found\n",
      "Processing: doc_680.pdf\n",
      "Processing: doc_2394.pdf\n",
      "Error processing doc_2394.pdf: EOF marker not found\n",
      "Processing: doc_1366.pdf\n",
      "Error processing doc_1366.pdf: EOF marker not found\n",
      "Processing: doc_871.pdf\n",
      "Processing: doc_211.pdf\n",
      "Processing: doc_851.pdf\n",
      "Processing: doc_27.pdf\n",
      "Processing: doc_762.pdf\n",
      "Processing: doc_1467.pdf\n",
      "Error processing doc_1467.pdf: EOF marker not found\n",
      "Processing: doc_3.pdf\n",
      "Processing: doc_466.pdf\n",
      "Processing: doc_362.pdf\n",
      "Processing: doc_979.pdf\n",
      "Processing: doc_111.pdf\n",
      "Processing: doc_2478.pdf\n",
      "Error processing doc_2478.pdf: EOF marker not found\n",
      "Processing: doc_600.pdf\n",
      "Processing: doc_860.pdf\n",
      "Processing: doc_2434.pdf\n",
      "Processing: doc_1972.pdf\n",
      "Processing: doc_750.pdf\n",
      "Processing: doc_41.pdf\n",
      "Processing: doc_115.pdf\n",
      "Processing: doc_2357.pdf\n",
      "Processing: doc_696.pdf\n",
      "Processing: doc_1581.pdf\n",
      "Processing: doc_2419.pdf\n",
      "Processing: doc_263.pdf\n",
      "Processing: doc_1331.pdf\n",
      "Error processing doc_1331.pdf: EOF marker not found\n",
      "Processing: doc_2556.pdf\n",
      "Processing: doc_336.pdf\n",
      "Processing: doc_516.pdf\n",
      "Processing: doc_173.pdf\n",
      "Processing: doc_2229.pdf\n",
      "Processing: doc_103.pdf\n",
      "Processing: doc_1148.pdf\n",
      "Processing: doc_2126.pdf\n",
      "Error processing doc_2126.pdf: EOF marker not found\n",
      "Processing: doc_484.pdf\n",
      "Processing: doc_803.pdf\n",
      "Processing: doc_1900.pdf\n"
     ]
    },
    {
     "name": "stderr",
     "output_type": "stream",
     "text": [
      "ignore '/Perms' verify failed\n"
     ]
    },
    {
     "name": "stdout",
     "output_type": "stream",
     "text": [
      "Processing: doc_2083.pdf\n",
      "Processing: doc_1160.pdf\n",
      "Processing: doc_1298.pdf\n",
      "Error processing doc_1298.pdf: EOF marker not found\n",
      "Processing: doc_1927.pdf\n",
      "Processing: doc_2146.pdf\n",
      "Processing: doc_772.pdf\n",
      "Processing: doc_2062.pdf\n",
      "Processing: doc_791.pdf\n",
      "Processing: doc_675.pdf\n",
      "Processing: doc_1069.pdf\n",
      "Processing: doc_477.pdf\n"
     ]
    },
    {
     "name": "stderr",
     "output_type": "stream",
     "text": [
      "Overwriting cache for 0 2498\n"
     ]
    },
    {
     "name": "stdout",
     "output_type": "stream",
     "text": [
      "Processing: doc_1946.pdf\n",
      "Processing: doc_300.pdf\n",
      "Processing: doc_1334.pdf\n",
      "Error processing doc_1334.pdf: EOF marker not found\n",
      "Processing: doc_2175.pdf\n",
      "Error processing doc_2175.pdf: EOF marker not found\n",
      "Processing: doc_811.pdf\n",
      "Processing: doc_870.pdf\n"
     ]
    },
    {
     "name": "stderr",
     "output_type": "stream",
     "text": [
      "ignore '/Perms' verify failed\n"
     ]
    },
    {
     "name": "stdout",
     "output_type": "stream",
     "text": [
      "Processing: doc_2227.pdf\n",
      "Processing: doc_2260.pdf\n",
      "Error processing doc_2260.pdf: EOF marker not found\n",
      "Processing: doc_2119.pdf\n",
      "Processing: doc_553.pdf\n",
      "Processing: doc_967.pdf\n",
      "Processing: doc_23.pdf\n",
      "Processing: doc_2377.pdf\n",
      "Processing: doc_47.pdf\n",
      "Processing: doc_339.pdf\n",
      "Processing: doc_705.pdf\n",
      "Processing: doc_184.pdf\n",
      "Processing: doc_487.pdf\n",
      "Processing: doc_986.pdf\n",
      "Processing: doc_330.pdf\n",
      "Processing: doc_1198.pdf\n",
      "Error processing doc_1198.pdf: EOF marker not found\n",
      "Processing: doc_2265.pdf\n",
      "Processing: doc_2268.pdf\n",
      "Processing: doc_1643.pdf\n",
      "Processing: doc_1985.pdf\n",
      "Processing: doc_2245.pdf\n",
      "Processing: doc_433.pdf\n",
      "Processing: doc_858.pdf\n",
      "Processing: doc_1953.pdf\n",
      "Processing: doc_2471.pdf\n"
     ]
    },
    {
     "name": "stderr",
     "output_type": "stream",
     "text": [
      "Overwriting cache for 0 2498\n"
     ]
    },
    {
     "name": "stdout",
     "output_type": "stream",
     "text": [
      "Processing: doc_591.pdf\n",
      "Processing: doc_1976.pdf\n",
      "Processing: doc_1132.pdf\n",
      "Error processing doc_1132.pdf: EOF marker not found\n",
      "Processing: doc_2172.pdf\n",
      "Processing: doc_780.pdf\n",
      "Processing: doc_2309.pdf\n",
      "Error processing doc_2309.pdf: EOF marker not found\n",
      "Processing: doc_457.pdf\n",
      "Error processing doc_457.pdf: Cannot read an empty file\n",
      "Processing: doc_117.pdf\n",
      "Processing: doc_1297.pdf\n",
      "Error processing doc_1297.pdf: EOF marker not found\n",
      "Processing: doc_1948.pdf\n",
      "Error processing doc_1948.pdf: EOF marker not found\n",
      "Processing: doc_158.pdf\n",
      "Processing: doc_2252.pdf\n",
      "Processing: doc_827.pdf\n",
      "Processing: doc_373.pdf\n",
      "Processing: doc_178.pdf\n",
      "Processing: doc_529.pdf\n",
      "Processing: doc_500.pdf\n",
      "Processing: doc_2364.pdf\n",
      "Processing: doc_462.pdf\n",
      "Error processing doc_462.pdf: Cannot read an empty file\n",
      "Processing: doc_110.pdf\n",
      "Processing: doc_52.pdf\n",
      "Processing: doc_579.pdf\n",
      "Processing: doc_2324.pdf\n",
      "Error processing doc_2324.pdf: EOF marker not found\n",
      "Processing: doc_2313.pdf\n",
      "Processing: doc_1468.pdf\n",
      "Error processing doc_1468.pdf: EOF marker not found\n",
      "Processing: doc_508.pdf\n",
      "Processing: doc_1155.pdf\n",
      "Processing: doc_376.pdf\n",
      "Processing: doc_392.pdf\n",
      "Processing: doc_1300.pdf\n",
      "Error processing doc_1300.pdf: EOF marker not found\n",
      "Processing: doc_434.pdf\n"
     ]
    },
    {
     "name": "stderr",
     "output_type": "stream",
     "text": [
      "ignore '/Perms' verify failed\n"
     ]
    },
    {
     "name": "stdout",
     "output_type": "stream",
     "text": [
      "Processing: doc_958.pdf\n",
      "Error processing doc_958.pdf: EOF marker not found\n",
      "Processing: doc_1056.pdf\n",
      "Processing: doc_739.pdf\n",
      "Processing: doc_878.pdf\n",
      "Processing: doc_155.pdf\n",
      "Processing: doc_102.pdf\n"
     ]
    },
    {
     "name": "stderr",
     "output_type": "stream",
     "text": [
      "ignore '/Perms' verify failed\n"
     ]
    },
    {
     "name": "stdout",
     "output_type": "stream",
     "text": [
      "Processing: doc_1104.pdf\n",
      "Processing: doc_364.pdf\n",
      "Processing: doc_1293.pdf\n",
      "Error processing doc_1293.pdf: EOF marker not found\n",
      "Processing: doc_2445.pdf\n",
      "Processing: doc_1973.pdf\n",
      "Processing: doc_2501.pdf\n"
     ]
    },
    {
     "name": "stderr",
     "output_type": "stream",
     "text": [
      "Overwriting cache for 0 2498\n"
     ]
    },
    {
     "name": "stdout",
     "output_type": "stream",
     "text": [
      "Processing: doc_970.pdf\n",
      "Processing: doc_1909.pdf\n",
      "Processing: doc_1348.pdf\n",
      "Error processing doc_1348.pdf: EOF marker not found\n",
      "Processing: doc_700.pdf\n",
      "Processing: doc_1935.pdf\n",
      "Processing: doc_2259.pdf\n",
      "Processing: doc_386.pdf\n",
      "Processing: doc_584.pdf\n",
      "Error processing doc_584.pdf: EOF marker not found\n",
      "Processing: doc_2429.pdf\n",
      "Processing: doc_1307.pdf\n",
      "Error processing doc_1307.pdf: EOF marker not found\n",
      "Processing: doc_214.pdf\n",
      "Processing: doc_2213.pdf\n",
      "Error processing doc_2213.pdf: EOF marker not found\n",
      "Processing: doc_124.pdf\n",
      "Processing: doc_1671.pdf\n",
      "Processing: doc_1310.pdf\n",
      "Error processing doc_1310.pdf: EOF marker not found\n",
      "Processing: doc_1327.pdf\n",
      "Error processing doc_1327.pdf: EOF marker not found\n",
      "Processing: doc_127.pdf\n",
      "Processing: doc_1981.pdf\n",
      "Processing: doc_706.pdf\n",
      "Processing: doc_519.pdf\n",
      "Processing: doc_1476.pdf\n",
      "Error processing doc_1476.pdf: EOF marker not found\n",
      "Processing: doc_1481.pdf\n",
      "Error processing doc_1481.pdf: EOF marker not found\n",
      "Processing: doc_2242.pdf\n",
      "Processing: doc_331.pdf\n",
      "Processing: doc_595.pdf\n",
      "Processing: doc_767.pdf\n",
      "Processing: doc_405.pdf\n",
      "Processing: doc_113.pdf\n",
      "Processing: doc_1359.pdf\n",
      "Error processing doc_1359.pdf: EOF marker not found\n",
      "Processing: doc_1461.pdf\n",
      "Error processing doc_1461.pdf: EOF marker not found\n",
      "Processing: doc_1919.pdf\n",
      "Processing: doc_1005.pdf\n",
      "Error processing doc_1005.pdf: EOF marker not found\n",
      "Processing: doc_2238.pdf\n",
      "Processing: doc_1409.pdf\n",
      "Error processing doc_1409.pdf: EOF marker not found\n",
      "Processing: doc_563.pdf\n",
      "Processing: doc_1452.pdf\n",
      "Error processing doc_1452.pdf: EOF marker not found\n",
      "Processing: doc_948.pdf\n",
      "Error processing doc_948.pdf: EOF marker not found\n",
      "Processing: doc_2443.pdf\n",
      "Processing: doc_990.pdf\n",
      "Processing: doc_1385.pdf\n",
      "Error processing doc_1385.pdf: EOF marker not found\n",
      "Processing: doc_1382.pdf\n",
      "Error processing doc_1382.pdf: EOF marker not found\n",
      "Processing: doc_1025.pdf\n",
      "Processing: doc_461.pdf\n",
      "Processing: doc_580.pdf\n",
      "Processing: doc_345.pdf\n",
      "Processing: doc_1287.pdf\n",
      "Error processing doc_1287.pdf: EOF marker not found\n",
      "Processing: doc_1434.pdf\n",
      "Error processing doc_1434.pdf: EOF marker not found\n",
      "Processing: doc_612.pdf\n",
      "Processing: doc_908.pdf\n",
      "Error processing doc_908.pdf: EOF marker not found\n",
      "Processing: doc_775.pdf\n",
      "Processing: doc_1527.pdf\n",
      "Processing: doc_296.pdf\n",
      "Processing: doc_540.pdf\n",
      "Processing: doc_57.pdf\n",
      "Processing: doc_507.pdf\n",
      "Processing: doc_944.pdf\n",
      "Error processing doc_944.pdf: EOF marker not found\n",
      "Processing: doc_850.pdf\n",
      "Processing: doc_788.pdf\n",
      "Processing: doc_1952.pdf\n",
      "Processing: doc_2365.pdf\n",
      "Processing: doc_485.pdf\n",
      "Processing: doc_707.pdf\n",
      "Processing: doc_830.pdf\n",
      "Processing: doc_419.pdf\n",
      "Processing: doc_746.pdf\n",
      "Processing: doc_776.pdf\n",
      "Processing: doc_683.pdf\n"
     ]
    },
    {
     "name": "stderr",
     "output_type": "stream",
     "text": [
      "ignore '/Perms' verify failed\n"
     ]
    },
    {
     "name": "stdout",
     "output_type": "stream",
     "text": [
      "Processing: doc_1041.pdf\n",
      "Processing: doc_2472.pdf\n",
      "Processing: doc_874.pdf\n"
     ]
    },
    {
     "name": "stderr",
     "output_type": "stream",
     "text": [
      "Overwriting cache for 0 815\n"
     ]
    },
    {
     "name": "stdout",
     "output_type": "stream",
     "text": [
      "Processing: doc_1316.pdf\n",
      "Error processing doc_1316.pdf: EOF marker not found\n",
      "Processing: doc_416.pdf\n",
      "Processing: doc_991.pdf\n"
     ]
    },
    {
     "name": "stderr",
     "output_type": "stream",
     "text": [
      "ignore '/Perms' verify failed\n"
     ]
    },
    {
     "name": "stdout",
     "output_type": "stream",
     "text": [
      "Processing: doc_1166.pdf\n",
      "Processing: doc_319.pdf\n",
      "Processing: doc_265.pdf\n",
      "Processing: doc_2174.pdf\n",
      "Processing: doc_2007.pdf\n",
      "Processing: doc_342.pdf\n",
      "Processing: doc_2281.pdf\n",
      "Error processing doc_2281.pdf: EOF marker not found\n",
      "Processing: doc_1439.pdf\n",
      "Error processing doc_1439.pdf: EOF marker not found\n",
      "Processing: doc_79.pdf\n",
      "Processing: doc_743.pdf\n",
      "Processing: doc_738.pdf\n",
      "Processing: doc_1931.pdf\n",
      "Processing: doc_2411.pdf\n",
      "Processing: doc_602.pdf\n",
      "Processing: doc_369.pdf\n",
      "Processing: doc_357.pdf\n",
      "Processing: doc_846.pdf\n"
     ]
    },
    {
     "name": "stderr",
     "output_type": "stream",
     "text": [
      "ignore '/Perms' verify failed\n"
     ]
    },
    {
     "name": "stdout",
     "output_type": "stream",
     "text": [
      "Processing: doc_924.pdf\n",
      "Processing: doc_1052.pdf\n",
      "Processing: doc_723.pdf\n",
      "Processing: doc_1760.pdf\n",
      "Processing: doc_2098.pdf\n",
      "Processing: doc_1491.pdf\n",
      "Error processing doc_1491.pdf: EOF marker not found\n",
      "Processing: doc_867.pdf\n",
      "Processing: doc_30.pdf\n",
      "Processing: doc_2148.pdf\n",
      "Processing: doc_1984.pdf\n",
      "Processing: doc_1343.pdf\n",
      "Error processing doc_1343.pdf: EOF marker not found\n",
      "Processing: doc_126.pdf\n",
      "Processing: doc_1571.pdf\n",
      "Processing: doc_1497.pdf\n",
      "Error processing doc_1497.pdf: EOF marker not found\n",
      "Processing: doc_2090.pdf\n",
      "Processing: doc_107.pdf\n",
      "Error processing doc_107.pdf: EOF marker not found\n",
      "Processing: doc_2275.pdf\n",
      "Processing: doc_588.pdf\n",
      "Processing: doc_1489.pdf\n",
      "Error processing doc_1489.pdf: EOF marker not found\n",
      "Processing: doc_833.pdf\n",
      "Processing: doc_72.pdf\n",
      "Processing: doc_1996.pdf\n"
     ]
    },
    {
     "name": "stderr",
     "output_type": "stream",
     "text": [
      "ignore '/Perms' verify failed\n"
     ]
    },
    {
     "name": "stdout",
     "output_type": "stream",
     "text": [
      "Processing: doc_2063.pdf\n",
      "Processing: doc_745.pdf\n",
      "Processing: doc_17.pdf\n",
      "Processing: doc_445.pdf\n",
      "Error processing doc_445.pdf: EOF marker not found\n",
      "Processing: doc_1302.pdf\n",
      "Error processing doc_1302.pdf: EOF marker not found\n",
      "Processing: doc_710.pdf\n",
      "Processing: doc_1090.pdf\n"
     ]
    },
    {
     "name": "stderr",
     "output_type": "stream",
     "text": [
      "ignore '/Perms' verify failed\n"
     ]
    },
    {
     "name": "stdout",
     "output_type": "stream",
     "text": [
      "Processing: doc_2369.pdf\n",
      "Processing: doc_1961.pdf\n",
      "Processing: doc_219.pdf\n",
      "Processing: doc_76.pdf\n"
     ]
    },
    {
     "name": "stderr",
     "output_type": "stream",
     "text": [
      "ignore '/Perms' verify failed\n"
     ]
    },
    {
     "name": "stdout",
     "output_type": "stream",
     "text": [
      "Processing: doc_2108.pdf\n",
      "Processing: doc_1694.pdf\n",
      "Processing: doc_1443.pdf\n",
      "Error processing doc_1443.pdf: EOF marker not found\n",
      "Processing: doc_1088.pdf\n",
      "Processing: doc_917.pdf\n",
      "Processing: doc_220.pdf\n",
      "Processing: doc_937.pdf\n",
      "Error processing doc_937.pdf: EOF marker not found\n",
      "Processing: doc_119.pdf\n",
      "Processing: doc_2094.pdf\n"
     ]
    },
    {
     "name": "stderr",
     "output_type": "stream",
     "text": [
      "ignore '/Perms' verify failed\n"
     ]
    },
    {
     "name": "stdout",
     "output_type": "stream",
     "text": [
      "Processing: doc_1306.pdf\n",
      "Error processing doc_1306.pdf: EOF marker not found\n",
      "Processing: doc_2197.pdf\n",
      "Processing: doc_758.pdf\n",
      "Processing: doc_1951.pdf\n",
      "Processing: doc_1199.pdf\n",
      "Error processing doc_1199.pdf: EOF marker not found\n",
      "Processing: doc_559.pdf\n",
      "Processing: doc_377.pdf\n",
      "Processing: doc_2341.pdf\n",
      "Processing: doc_14.pdf\n",
      "Processing: doc_192.pdf\n",
      "Processing: doc_1128.pdf\n",
      "Error processing doc_1128.pdf: EOF marker not found\n",
      "Processing: doc_2071.pdf\n",
      "Processing: doc_1368.pdf\n",
      "Error processing doc_1368.pdf: EOF marker not found\n",
      "Processing: doc_29.pdf\n",
      "Processing: doc_1446.pdf\n",
      "Error processing doc_1446.pdf: EOF marker not found\n",
      "Processing: doc_2468.pdf\n",
      "Processing: doc_1559.pdf\n",
      "Processing: doc_2202.pdf\n",
      "Error processing doc_2202.pdf: EOF marker not found\n",
      "Processing: doc_1299.pdf\n",
      "Error processing doc_1299.pdf: EOF marker not found\n",
      "Processing: doc_699.pdf\n",
      "Processing: doc_687.pdf\n",
      "Processing: doc_13.pdf\n",
      "Processing: doc_985.pdf\n",
      "Error processing doc_985.pdf: EOF marker not found\n",
      "Processing: doc_1301.pdf\n",
      "Error processing doc_1301.pdf: EOF marker not found\n",
      "Processing: doc_2190.pdf\n",
      "Error processing doc_2190.pdf: EOF marker not found\n",
      "Processing: doc_264.pdf\n",
      "Processing: doc_2066.pdf\n",
      "Processing: doc_1487.pdf\n",
      "Error processing doc_1487.pdf: EOF marker not found\n",
      "Processing: doc_1249.pdf\n",
      "Error processing doc_1249.pdf: EOF marker not found\n",
      "Processing: doc_2068.pdf\n",
      "Error processing doc_2068.pdf: EOF marker not found\n",
      "Processing: doc_2360.pdf\n",
      "Processing: doc_2200.pdf\n",
      "Error processing doc_2200.pdf: EOF marker not found\n",
      "Processing: doc_658.pdf\n",
      "Processing: doc_800.pdf\n",
      "Processing: doc_40.pdf\n",
      "Processing: doc_1317.pdf\n",
      "Error processing doc_1317.pdf: EOF marker not found\n",
      "Processing: doc_2153.pdf\n",
      "Error processing doc_2153.pdf: EOF marker not found\n",
      "Processing: doc_959.pdf\n",
      "Error processing doc_959.pdf: EOF marker not found\n",
      "Processing: doc_1990.pdf\n",
      "Processing: doc_2156.pdf\n",
      "Processing: doc_2073.pdf\n",
      "Processing: doc_1635.pdf\n",
      "Processing: doc_2164.pdf\n",
      "Processing: doc_311.pdf\n",
      "Processing: doc_1296.pdf\n",
      "Error processing doc_1296.pdf: EOF marker not found\n",
      "Processing: doc_307.pdf\n",
      "Processing: doc_215.pdf\n",
      "Processing: doc_74.pdf\n",
      "Processing: doc_54.pdf\n",
      "Processing: doc_2485.pdf\n",
      "Error processing doc_2485.pdf: EOF marker not found\n",
      "Processing: doc_132.pdf\n",
      "Processing: doc_182.pdf\n",
      "Processing: doc_1400.pdf\n",
      "Error processing doc_1400.pdf: EOF marker not found\n",
      "Processing: doc_619.pdf\n",
      "Processing: doc_90.pdf\n",
      "Processing: doc_2459.pdf\n",
      "Processing: doc_532.pdf\n",
      "Processing: doc_904.pdf\n",
      "Processing: doc_1223.pdf\n",
      "Error processing doc_1223.pdf: EOF marker not found\n",
      "Processing: doc_807.pdf\n",
      "Processing: doc_1182.pdf\n",
      "Processing: doc_135.pdf\n",
      "Processing: doc_1281.pdf\n",
      "Error processing doc_1281.pdf: EOF marker not found\n",
      "Processing: doc_730.pdf\n",
      "Processing: doc_2335.pdf\n",
      "Error processing doc_2335.pdf: EOF marker not found\n",
      "Processing: doc_2433.pdf\n",
      "Processing: doc_1472.pdf\n",
      "Error processing doc_1472.pdf: EOF marker not found\n",
      "Processing: doc_2322.pdf\n",
      "Processing: doc_1137.pdf\n",
      "Error processing doc_1137.pdf: EOF marker not found\n",
      "Processing: doc_2141.pdf\n",
      "Error processing doc_2141.pdf: EOF marker not found\n",
      "Processing: doc_1906.pdf\n",
      "Processing: doc_312.pdf\n",
      "Processing: doc_2490.pdf\n",
      "Processing: doc_454.pdf\n"
     ]
    },
    {
     "name": "stderr",
     "output_type": "stream",
     "text": [
      "ignore '/Perms' verify failed\n"
     ]
    },
    {
     "name": "stdout",
     "output_type": "stream",
     "text": [
      "Processing: doc_2389.pdf\n",
      "Processing: doc_2243.pdf\n",
      "Processing: doc_618.pdf\n",
      "Processing: doc_879.pdf\n",
      "Processing: doc_2095.pdf\n",
      "Error processing doc_2095.pdf: EOF marker not found\n",
      "Processing: doc_2454.pdf\n",
      "Processing: doc_2336.pdf\n",
      "Processing: doc_1761.pdf\n",
      "Processing: doc_172.pdf\n",
      "Error processing doc_172.pdf: EOF marker not found\n",
      "Processing: doc_2493.pdf\n",
      "Processing: doc_1330.pdf\n",
      "Error processing doc_1330.pdf: EOF marker not found\n",
      "Processing: doc_702.pdf\n",
      "Processing: doc_2219.pdf\n",
      "Processing: doc_582.pdf\n",
      "Processing: doc_491.pdf\n",
      "Processing: doc_574.pdf\n",
      "Processing: doc_548.pdf\n",
      "Processing: doc_509.pdf\n",
      "Processing: doc_957.pdf\n",
      "Processing: doc_139.pdf\n"
     ]
    },
    {
     "name": "stderr",
     "output_type": "stream",
     "text": [
      "ignore '/Perms' verify failed\n"
     ]
    },
    {
     "name": "stdout",
     "output_type": "stream",
     "text": [
      "Processing: doc_1001.pdf\n",
      "Processing: doc_2256.pdf\n",
      "Processing: doc_550.pdf\n",
      "Processing: doc_2380.pdf\n",
      "Processing: doc_893.pdf\n",
      "Error processing doc_893.pdf: EOF marker not found\n",
      "Processing: doc_1217.pdf\n",
      "Processing: doc_895.pdf\n",
      "Processing: doc_1575.pdf\n",
      "Processing: doc_883.pdf\n",
      "Processing: doc_1290.pdf\n",
      "Error processing doc_1290.pdf: EOF marker not found\n",
      "Processing: doc_435.pdf\n",
      "Processing: doc_2072.pdf\n",
      "Processing: doc_1629.pdf\n",
      "Processing: doc_370.pdf\n"
     ]
    },
    {
     "name": "stderr",
     "output_type": "stream",
     "text": [
      "ignore '/Perms' verify failed\n"
     ]
    },
    {
     "name": "stdout",
     "output_type": "stream",
     "text": [
      "Processing: doc_1157.pdf\n",
      "Error processing doc_1157.pdf: EOF marker not found\n",
      "Processing: doc_1304.pdf\n",
      "Error processing doc_1304.pdf: EOF marker not found\n",
      "Processing: doc_1285.pdf\n",
      "Processing: doc_2159.pdf\n",
      "Error processing doc_2159.pdf: EOF marker not found\n",
      "Processing: doc_1024.pdf\n",
      "Processing: doc_359.pdf\n",
      "Processing: doc_218.pdf\n"
     ]
    },
    {
     "name": "stderr",
     "output_type": "stream",
     "text": [
      "ignore '/Perms' verify failed\n"
     ]
    },
    {
     "name": "stdout",
     "output_type": "stream",
     "text": [
      "Processing: doc_2347.pdf\n",
      "Processing: doc_624.pdf\n",
      "Processing: doc_506.pdf\n",
      "Processing: doc_1196.pdf\n",
      "Processing: doc_839.pdf\n",
      "Processing: doc_1133.pdf\n",
      "Error processing doc_1133.pdf: EOF marker not found\n",
      "Processing: doc_449.pdf\n",
      "Processing: doc_138.pdf\n",
      "Processing: doc_953.pdf\n",
      "Processing: doc_1113.pdf\n",
      "Error processing doc_1113.pdf: EOF marker not found\n",
      "Processing: doc_469.pdf\n"
     ]
    },
    {
     "name": "stderr",
     "output_type": "stream",
     "text": [
      "ignore '/Perms' verify failed\n"
     ]
    },
    {
     "name": "stdout",
     "output_type": "stream",
     "text": [
      "Processing: doc_2169.pdf\n",
      "Processing: doc_1267.pdf\n",
      "Processing: doc_1110.pdf\n",
      "Error processing doc_1110.pdf: EOF marker not found\n",
      "Processing: doc_634.pdf\n",
      "Processing: doc_1590.pdf\n",
      "Processing: doc_1354.pdf\n",
      "Error processing doc_1354.pdf: EOF marker not found\n",
      "Processing: doc_1905.pdf\n",
      "Processing: doc_581.pdf\n",
      "Processing: doc_299.pdf\n",
      "Processing: doc_590.pdf\n",
      "Processing: doc_2345.pdf\n",
      "Error processing doc_2345.pdf: EOF marker not found\n",
      "Processing: doc_2192.pdf\n",
      "Processing: doc_69.pdf\n",
      "Processing: doc_1280.pdf\n",
      "Error processing doc_1280.pdf: EOF marker not found\n",
      "Processing: doc_693.pdf\n",
      "Processing: doc_1494.pdf\n",
      "Error processing doc_1494.pdf: EOF marker not found\n",
      "Processing: doc_950.pdf\n",
      "Error processing doc_950.pdf: EOF marker not found\n",
      "Processing: doc_318.pdf\n"
     ]
    },
    {
     "name": "stderr",
     "output_type": "stream",
     "text": [
      "ignore '/Perms' verify failed\n"
     ]
    },
    {
     "name": "stdout",
     "output_type": "stream",
     "text": [
      "Processing: doc_1247.pdf\n",
      "Error processing doc_1247.pdf: EOF marker not found\n",
      "Processing: doc_1175.pdf\n",
      "Processing: doc_444.pdf\n",
      "Processing: doc_1398.pdf\n",
      "Error processing doc_1398.pdf: EOF marker not found\n",
      "Processing: doc_474.pdf\n",
      "Processing: doc_1006.pdf\n",
      "Processing: doc_114.pdf\n",
      "Processing: doc_1936.pdf\n",
      "Processing: doc_2221.pdf\n",
      "Error processing doc_2221.pdf: EOF marker not found\n",
      "Processing: doc_1574.pdf\n",
      "Processing: doc_2021.pdf\n",
      "Processing: doc_652.pdf\n",
      "Processing: doc_2101.pdf\n",
      "Processing: doc_910.pdf\n",
      "Error processing doc_910.pdf: EOF marker not found\n",
      "Processing: doc_748.pdf\n"
     ]
    },
    {
     "name": "stderr",
     "output_type": "stream",
     "text": [
      "ignore '/Perms' verify failed\n"
     ]
    },
    {
     "name": "stdout",
     "output_type": "stream",
     "text": [
      "Processing: doc_1323.pdf\n",
      "Error processing doc_1323.pdf: EOF marker not found\n",
      "Processing: doc_1046.pdf\n",
      "Processing: doc_808.pdf\n",
      "Processing: doc_889.pdf\n",
      "Error processing doc_889.pdf: EOF marker not found\n",
      "Processing: doc_1106.pdf\n",
      "Error processing doc_1106.pdf: EOF marker not found\n",
      "Processing: doc_2181.pdf\n",
      "Processing: doc_61.pdf\n",
      "Processing: doc_614.pdf\n"
     ]
    },
    {
     "name": "stderr",
     "output_type": "stream",
     "text": [
      "ignore '/Perms' verify failed\n",
      "unknown widths : \n",
      "[0, IndirectObject(210, 0, 140428758394848)]\n",
      "ignore '/Perms' verify failed\n"
     ]
    },
    {
     "name": "stdout",
     "output_type": "stream",
     "text": [
      "Processing: doc_1268.pdf\n",
      "Processing: doc_1291.pdf\n",
      "Error processing doc_1291.pdf: EOF marker not found\n",
      "Processing: doc_2417.pdf\n",
      "Processing: doc_2353.pdf\n",
      "Processing: doc_2077.pdf\n",
      "Error processing doc_2077.pdf: EOF marker not found\n",
      "Processing: doc_212.pdf\n",
      "Processing: doc_2418.pdf\n",
      "Processing: doc_97.pdf\n",
      "Processing: doc_2136.pdf\n",
      "Processing: doc_749.pdf\n"
     ]
    },
    {
     "name": "stderr",
     "output_type": "stream",
     "text": [
      "ignore '/Perms' verify failed\n"
     ]
    },
    {
     "name": "stdout",
     "output_type": "stream",
     "text": [
      "Processing: doc_1167.pdf\n",
      "Processing: doc_2084.pdf\n",
      "Processing: doc_167.pdf\n",
      "Processing: doc_365.pdf\n"
     ]
    },
    {
     "name": "stderr",
     "output_type": "stream",
     "text": [
      "ignore '/Perms' verify failed\n"
     ]
    },
    {
     "name": "stdout",
     "output_type": "stream",
     "text": [
      "Processing: doc_1118.pdf\n",
      "Processing: doc_2308.pdf\n",
      "Processing: doc_1942.pdf\n",
      "Processing: doc_694.pdf\n",
      "Processing: doc_927.pdf\n",
      "Processing: doc_829.pdf\n",
      "Processing: doc_2287.pdf\n",
      "Processing: doc_955.pdf\n",
      "Processing: doc_2121.pdf\n",
      "Processing: doc_2328.pdf\n",
      "Processing: doc_709.pdf\n",
      "Processing: doc_689.pdf\n",
      "Processing: doc_1493.pdf\n",
      "Error processing doc_1493.pdf: EOF marker not found\n",
      "Processing: doc_512.pdf\n"
     ]
    },
    {
     "name": "stderr",
     "output_type": "stream",
     "text": [
      "Overwriting cache for 0 2498\n"
     ]
    },
    {
     "name": "stdout",
     "output_type": "stream",
     "text": [
      "Processing: doc_1934.pdf\n",
      "Processing: doc_1680.pdf\n",
      "Processing: doc_672.pdf\n",
      "Processing: doc_585.pdf\n",
      "Processing: doc_545.pdf\n",
      "Processing: doc_448.pdf\n",
      "Processing: doc_1921.pdf\n",
      "Processing: doc_2015.pdf\n",
      "Processing: doc_651.pdf\n",
      "Processing: doc_1342.pdf\n",
      "Error processing doc_1342.pdf: EOF marker not found\n",
      "Processing: doc_2435.pdf\n",
      "Processing: doc_2432.pdf\n",
      "Processing: doc_747.pdf\n",
      "Processing: doc_1486.pdf\n",
      "Error processing doc_1486.pdf: EOF marker not found\n",
      "Processing: doc_81.pdf\n",
      "Processing: doc_1372.pdf\n",
      "Error processing doc_1372.pdf: EOF marker not found\n",
      "Processing: doc_1999.pdf\n",
      "Processing: doc_1076.pdf\n",
      "Error processing doc_1076.pdf: EOF marker not found\n",
      "Processing: doc_1636.pdf\n",
      "Processing: doc_819.pdf\n",
      "Processing: doc_789.pdf\n",
      "Processing: doc_964.pdf\n",
      "Processing: doc_1480.pdf\n",
      "Error processing doc_1480.pdf: EOF marker not found\n",
      "Processing: doc_1963.pdf\n",
      "Processing: doc_2395.pdf\n",
      "Processing: doc_1289.pdf\n",
      "Error processing doc_1289.pdf: EOF marker not found\n",
      "Processing: doc_1374.pdf\n",
      "Error processing doc_1374.pdf: EOF marker not found\n",
      "Processing: doc_16.pdf\n",
      "Processing: doc_517.pdf\n"
     ]
    },
    {
     "name": "stderr",
     "output_type": "stream",
     "text": [
      "ignore '/Perms' verify failed\n"
     ]
    },
    {
     "name": "stdout",
     "output_type": "stream",
     "text": [
      "Processing: doc_1456.pdf\n",
      "Error processing doc_1456.pdf: EOF marker not found\n",
      "Processing: doc_891.pdf\n",
      "Error processing doc_891.pdf: EOF marker not found\n",
      "Processing: doc_1043.pdf\n",
      "Processing: doc_1759.pdf\n",
      "Processing: doc_1731.pdf\n",
      "Processing: doc_2387.pdf\n",
      "Error processing doc_2387.pdf: EOF marker not found\n",
      "Processing: doc_2234.pdf\n",
      "Processing: doc_630.pdf\n",
      "Processing: doc_1941.pdf\n",
      "Error processing doc_1941.pdf: EOF marker not found\n",
      "Processing: doc_2461.pdf\n"
     ]
    },
    {
     "name": "stderr",
     "output_type": "stream",
     "text": [
      "ignore '/Perms' verify failed\n"
     ]
    },
    {
     "name": "stdout",
     "output_type": "stream",
     "text": [
      "Processing: doc_2011.pdf\n",
      "Processing: doc_1057.pdf\n",
      "Processing: doc_954.pdf\n"
     ]
    },
    {
     "name": "stderr",
     "output_type": "stream",
     "text": [
      "ignore '/Perms' verify failed\n"
     ]
    },
    {
     "name": "stdout",
     "output_type": "stream",
     "text": [
      "Processing: doc_2100.pdf\n",
      "Error processing doc_2100.pdf: EOF marker not found\n",
      "Processing: doc_1265.pdf\n",
      "Processing: doc_2405.pdf\n",
      "Processing: doc_1646.pdf\n",
      "Processing: doc_447.pdf\n",
      "Processing: doc_1552.pdf\n",
      "Processing: doc_494.pdf\n",
      "Processing: doc_613.pdf\n",
      "Processing: doc_920.pdf\n",
      "Processing: doc_1978.pdf\n",
      "Processing: doc_2392.pdf\n",
      "Processing: doc_637.pdf\n",
      "Processing: doc_2440.pdf\n",
      "Processing: doc_1257.pdf\n",
      "Error processing doc_1257.pdf: EOF marker not found\n",
      "Processing: doc_2061.pdf\n",
      "Processing: doc_1987.pdf\n",
      "Processing: doc_2372.pdf\n",
      "Error processing doc_2372.pdf: EOF marker not found\n",
      "Processing: doc_2226.pdf\n",
      "Processing: doc_2291.pdf\n",
      "Processing: doc_2005.pdf\n",
      "Error processing doc_2005.pdf: EOF marker not found\n",
      "Processing: doc_2276.pdf\n",
      "Error processing doc_2276.pdf: EOF marker not found\n",
      "Processing: doc_597.pdf\n",
      "Processing: doc_2447.pdf\n",
      "Processing: doc_1634.pdf\n",
      "Processing: doc_980.pdf\n",
      "Processing: doc_2028.pdf\n",
      "Processing: doc_130.pdf\n",
      "Processing: doc_631.pdf\n",
      "Processing: doc_77.pdf\n",
      "Processing: doc_2210.pdf\n",
      "Processing: doc_2425.pdf\n",
      "Processing: doc_2201.pdf\n",
      "Processing: doc_109.pdf\n",
      "Processing: doc_1995.pdf\n",
      "Error processing doc_1995.pdf: EOF marker not found\n",
      "Processing: doc_869.pdf\n",
      "Processing: doc_821.pdf\n",
      "Processing: doc_2404.pdf\n",
      "Processing: doc_483.pdf\n",
      "Processing: doc_943.pdf\n",
      "Error processing doc_943.pdf: EOF marker not found\n",
      "Processing: doc_638.pdf\n",
      "Processing: doc_1363.pdf\n",
      "Error processing doc_1363.pdf: EOF marker not found\n",
      "Processing: doc_567.pdf\n",
      "Processing: doc_452.pdf\n",
      "Processing: doc_2008.pdf\n",
      "Processing: doc_472.pdf\n",
      "Processing: doc_1950.pdf\n",
      "Processing: doc_511.pdf\n",
      "Processing: doc_48.pdf\n",
      "Processing: doc_1463.pdf\n",
      "Error processing doc_1463.pdf: EOF marker not found\n",
      "Processing: doc_946.pdf\n",
      "Error processing doc_946.pdf: EOF marker not found\n",
      "Processing: doc_1968.pdf\n",
      "Processing: doc_1945.pdf\n",
      "Processing: doc_1066.pdf\n",
      "Error processing doc_1066.pdf: EOF marker not found\n",
      "Processing: doc_94.pdf\n",
      "Processing: doc_1994.pdf\n",
      "Processing: doc_465.pdf\n",
      "Processing: doc_546.pdf\n",
      "Processing: doc_2401.pdf\n",
      "Processing: doc_890.pdf\n",
      "Error processing doc_890.pdf: EOF marker not found\n",
      "Processing: doc_1902.pdf\n",
      "Processing: doc_666.pdf\n",
      "Processing: doc_2127.pdf\n",
      "Processing: doc_2171.pdf\n",
      "Error processing doc_2171.pdf: EOF marker not found\n",
      "Processing: doc_147.pdf\n",
      "Processing: doc_2442.pdf\n",
      "Processing: doc_1185.pdf\n",
      "Error processing doc_1185.pdf: EOF marker not found\n",
      "Processing: doc_502.pdf\n"
     ]
    },
    {
     "name": "stderr",
     "output_type": "stream",
     "text": [
      "ignore '/Perms' verify failed\n"
     ]
    },
    {
     "name": "stdout",
     "output_type": "stream",
     "text": [
      "Processing: doc_801.pdf\n",
      "Processing: doc_2118.pdf\n",
      "Processing: doc_1283.pdf\n",
      "Error processing doc_1283.pdf: EOF marker not found\n",
      "Processing: doc_21.pdf\n"
     ]
    },
    {
     "name": "stderr",
     "output_type": "stream",
     "text": [
      "ignore '/Perms' verify failed\n"
     ]
    },
    {
     "name": "stdout",
     "output_type": "stream",
     "text": [
      "Processing: doc_1496.pdf\n",
      "Error processing doc_1496.pdf: EOF marker not found\n",
      "Processing: doc_1242.pdf\n",
      "Processing: doc_642.pdf\n",
      "Processing: doc_144.pdf\n",
      "Processing: doc_2183.pdf\n",
      "Processing: doc_1912.pdf\n",
      "Processing: doc_2167.pdf\n",
      "Error processing doc_2167.pdf: EOF marker not found\n",
      "Processing: doc_653.pdf\n",
      "Processing: doc_309.pdf\n",
      "Processing: doc_2361.pdf\n",
      "Processing: doc_1492.pdf\n",
      "Error processing doc_1492.pdf: EOF marker not found\n",
      "Processing: doc_1412.pdf\n",
      "Error processing doc_1412.pdf: EOF marker not found\n",
      "Processing: doc_2188.pdf\n",
      "Processing: doc_1980.pdf\n",
      "Processing: doc_1576.pdf\n",
      "Processing: doc_1338.pdf\n",
      "Error processing doc_1338.pdf: EOF marker not found\n",
      "Processing: doc_2460.pdf\n",
      "Processing: doc_1395.pdf\n",
      "Error processing doc_1395.pdf: EOF marker not found\n",
      "Processing: doc_982.pdf\n",
      "Processing: doc_1365.pdf\n",
      "Processing: doc_1322.pdf\n",
      "Error processing doc_1322.pdf: EOF marker not found\n",
      "Processing: doc_1423.pdf\n",
      "Error processing doc_1423.pdf: EOF marker not found\n",
      "Processing: doc_2509.pdf\n",
      "Processing: doc_1126.pdf\n",
      "Processing: doc_930.pdf\n",
      "Processing: doc_1071.pdf\n",
      "Processing: doc_712.pdf\n",
      "Processing: doc_2495.pdf\n",
      "Processing: doc_290.pdf\n",
      "Processing: doc_841.pdf\n",
      "Processing: doc_123.pdf\n",
      "Processing: doc_828.pdf\n",
      "Processing: doc_793.pdf\n",
      "Processing: doc_942.pdf\n",
      "Error processing doc_942.pdf: EOF marker not found\n",
      "Processing: doc_274.pdf\n",
      "Processing: doc_2452.pdf\n",
      "Error processing doc_2452.pdf: EOF marker not found\n",
      "Processing: doc_1688.pdf\n",
      "Processing: doc_534.pdf\n",
      "Processing: doc_1520.pdf\n",
      "Processing: doc_792.pdf\n",
      "Processing: doc_1352.pdf\n",
      "Error processing doc_1352.pdf: EOF marker not found\n",
      "Processing: doc_2416.pdf\n",
      "Processing: doc_441.pdf\n",
      "Processing: doc_431.pdf\n",
      "Processing: doc_1197.pdf\n",
      "Error processing doc_1197.pdf: EOF marker not found\n",
      "Processing: doc_1424.pdf\n",
      "Error processing doc_1424.pdf: EOF marker not found\n",
      "Processing: doc_701.pdf\n",
      "Processing: doc_1772.pdf\n",
      "Processing: doc_2217.pdf\n",
      "Processing: doc_1930.pdf\n",
      "Processing: doc_1151.pdf\n",
      "Processing: doc_189.pdf\n",
      "Processing: doc_569.pdf\n"
     ]
    },
    {
     "name": "stderr",
     "output_type": "stream",
     "text": [
      "unknown widths : \n",
      "[0, IndirectObject(845, 0, 140428608149008)]\n",
      "unknown widths : \n",
      "[0, IndirectObject(840, 0, 140428608149008)]\n"
     ]
    },
    {
     "name": "stdout",
     "output_type": "stream",
     "text": [
      "Processing: doc_56.pdf\n"
     ]
    },
    {
     "name": "stderr",
     "output_type": "stream",
     "text": [
      "unknown widths : \n",
      "[0, IndirectObject(543, 0, 140428608149008)]\n",
      "unknown widths : \n",
      "[0, IndirectObject(538, 0, 140428608149008)]\n"
     ]
    },
    {
     "name": "stdout",
     "output_type": "stream",
     "text": [
      "Processing: doc_760.pdf\n",
      "Processing: doc_1061.pdf\n",
      "Error processing doc_1061.pdf: EOF marker not found\n",
      "Processing: doc_1944.pdf\n",
      "Processing: doc_281.pdf\n",
      "Processing: doc_2288.pdf\n",
      "Error processing doc_2288.pdf: EOF marker not found\n",
      "Processing: doc_104.pdf\n",
      "Processing: doc_372.pdf\n",
      "Processing: doc_622.pdf\n",
      "Processing: doc_593.pdf\n",
      "Processing: doc_554.pdf\n",
      "Processing: doc_1989.pdf\n",
      "Processing: doc_656.pdf\n",
      "Processing: doc_2301.pdf\n",
      "Error processing doc_2301.pdf: EOF marker not found\n",
      "Processing: doc_157.pdf\n",
      "Processing: doc_1357.pdf\n",
      "Error processing doc_1357.pdf: EOF marker not found\n",
      "Processing: doc_632.pdf\n",
      "Processing: doc_1457.pdf\n",
      "Error processing doc_1457.pdf: EOF marker not found\n",
      "Processing: doc_2032.pdf\n",
      "Processing: doc_897.pdf\n",
      "Processing: doc_15.pdf\n",
      "Processing: doc_1397.pdf\n",
      "Error processing doc_1397.pdf: EOF marker not found\n",
      "Processing: doc_2302.pdf\n",
      "Error processing doc_2302.pdf: EOF marker not found\n",
      "Processing: doc_914.pdf\n",
      "Processing: doc_183.pdf\n",
      "Processing: doc_1234.pdf\n",
      "Processing: doc_740.pdf\n"
     ]
    },
    {
     "name": "stderr",
     "output_type": "stream",
     "text": [
      "Overwriting cache for 0 644\n"
     ]
    },
    {
     "name": "stdout",
     "output_type": "stream",
     "text": [
      "Processing: doc_989.pdf\n"
     ]
    },
    {
     "name": "stderr",
     "output_type": "stream",
     "text": [
      "ignore '/Perms' verify failed\n",
      "ignore '/Perms' verify failed\n"
     ]
    },
    {
     "name": "stdout",
     "output_type": "stream",
     "text": [
      "Processing: doc_1078.pdf\n",
      "Error processing doc_1078.pdf: EOF marker not found\n",
      "Processing: doc_1282.pdf\n",
      "Processing: doc_1083.pdf\n",
      "Processing: doc_2137.pdf\n",
      "Processing: doc_1376.pdf\n",
      "Error processing doc_1376.pdf: EOF marker not found\n",
      "Processing: doc_1530.pdf\n",
      "Processing: doc_2220.pdf\n",
      "Processing: doc_663.pdf\n",
      "Processing: doc_868.pdf\n",
      "Processing: doc_1618.pdf\n",
      "Processing: doc_832.pdf\n",
      "Processing: doc_1294.pdf\n",
      "Error processing doc_1294.pdf: EOF marker not found\n",
      "Processing: doc_1583.pdf\n",
      "Processing: doc_528.pdf\n",
      "Processing: doc_1318.pdf\n",
      "Error processing doc_1318.pdf: EOF marker not found\n",
      "Processing: doc_2497.pdf\n",
      "Processing: doc_865.pdf\n",
      "Processing: doc_1328.pdf\n",
      "Error processing doc_1328.pdf: EOF marker not found\n",
      "Processing: doc_2462.pdf\n",
      "Processing: doc_1008.pdf\n",
      "Processing: doc_1313.pdf\n",
      "Processing: doc_412.pdf\n"
     ]
    },
    {
     "name": "stderr",
     "output_type": "stream",
     "text": [
      "ignore '/Perms' verify failed\n"
     ]
    },
    {
     "name": "stdout",
     "output_type": "stream",
     "text": [
      "Processing: doc_2206.pdf\n",
      "Processing: doc_848.pdf\n"
     ]
    },
    {
     "name": "stderr",
     "output_type": "stream",
     "text": [
      "ignore '/Perms' verify failed\n"
     ]
    },
    {
     "name": "stdout",
     "output_type": "stream",
     "text": [
      "Processing: doc_2003.pdf\n",
      "Processing: doc_464.pdf\n"
     ]
    },
    {
     "name": "stderr",
     "output_type": "stream",
     "text": [
      "ignore '/Perms' verify failed\n"
     ]
    },
    {
     "name": "stdout",
     "output_type": "stream",
     "text": [
      "Processing: doc_1100.pdf\n",
      "Processing: doc_1673.pdf\n",
      "Processing: doc_1345.pdf\n",
      "Error processing doc_1345.pdf: EOF marker not found\n",
      "Processing: doc_2514.pdf\n",
      "Error processing doc_2514.pdf: EOF marker not found\n",
      "Processing: doc_343.pdf\n",
      "Processing: doc_1003.pdf\n",
      "Processing: doc_571.pdf\n",
      "Processing: doc_2466.pdf\n",
      "Processing: doc_498.pdf\n",
      "Processing: doc_1017.pdf\n"
     ]
    },
    {
     "name": "stderr",
     "output_type": "stream",
     "text": [
      "ignore '/Perms' verify failed\n"
     ]
    },
    {
     "name": "stdout",
     "output_type": "stream",
     "text": [
      "Processing: doc_1101.pdf\n",
      "Processing: doc_1068.pdf\n",
      "Processing: doc_341.pdf\n",
      "Processing: doc_2330.pdf\n",
      "Processing: doc_333.pdf\n",
      "Processing: doc_450.pdf\n",
      "Processing: doc_2124.pdf\n",
      "Processing: doc_2482.pdf\n",
      "Error processing doc_2482.pdf: EOF marker not found\n",
      "Processing: doc_63.pdf\n",
      "Processing: doc_2367.pdf\n",
      "Processing: doc_1059.pdf\n",
      "Error processing doc_1059.pdf: EOF marker not found\n",
      "Processing: doc_301.pdf\n",
      "Processing: doc_446.pdf\n",
      "Error processing doc_446.pdf: EOF marker not found\n",
      "Processing: doc_91.pdf\n",
      "Processing: doc_1977.pdf\n",
      "Processing: doc_2311.pdf\n",
      "Processing: doc_44.pdf\n",
      "Processing: doc_2262.pdf\n",
      "Processing: doc_277.pdf\n",
      "Processing: doc_2178.pdf\n",
      "Processing: doc_902.pdf\n",
      "Processing: doc_647.pdf\n",
      "Processing: doc_2043.pdf\n",
      "Processing: doc_2051.pdf\n",
      "Processing: doc_564.pdf\n",
      "Processing: doc_168.pdf\n",
      "Processing: doc_929.pdf\n",
      "Error processing doc_929.pdf: EOF marker not found\n",
      "Processing: doc_650.pdf\n",
      "Processing: doc_894.pdf\n",
      "Error processing doc_894.pdf: EOF marker not found\n",
      "Processing: doc_1020.pdf\n",
      "Processing: doc_668.pdf\n",
      "Processing: doc_32.pdf\n",
      "Error processing doc_32.pdf: EOF marker not found\n",
      "Processing: doc_660.pdf\n"
     ]
    },
    {
     "name": "stderr",
     "output_type": "stream",
     "text": [
      "Overwriting cache for 0 4181\n"
     ]
    },
    {
     "name": "stdout",
     "output_type": "stream",
     "text": [
      "Processing: doc_1309.pdf\n",
      "Error processing doc_1309.pdf: EOF marker not found\n",
      "Processing: doc_719.pdf\n",
      "Processing: doc_7.pdf\n",
      "Processing: doc_18.pdf\n",
      "Processing: doc_1746.pdf\n",
      "Processing: doc_806.pdf\n",
      "Processing: doc_2088.pdf\n",
      "Error processing doc_2088.pdf: EOF marker not found\n",
      "Processing: doc_649.pdf\n",
      "Processing: doc_335.pdf\n",
      "Processing: doc_2413.pdf\n",
      "Processing: doc_718.pdf\n",
      "Processing: doc_78.pdf\n",
      "Processing: doc_2458.pdf\n"
     ]
    },
    {
     "name": "stderr",
     "output_type": "stream",
     "text": [
      "ignore '/Perms' verify failed\n"
     ]
    },
    {
     "name": "stdout",
     "output_type": "stream",
     "text": [
      "Processing: doc_1095.pdf\n",
      "Processing: doc_1572.pdf\n",
      "Processing: doc_2426.pdf\n",
      "Processing: doc_2326.pdf\n",
      "Error processing doc_2326.pdf: EOF marker not found\n",
      "Processing: doc_2474.pdf\n",
      "Processing: doc_334.pdf\n",
      "Processing: doc_429.pdf\n",
      "Processing: doc_2568.pdf\n",
      "Processing: doc_1642.pdf\n",
      "Processing: doc_2453.pdf\n",
      "Processing: doc_1079.pdf\n",
      "Processing: doc_1449.pdf\n",
      "Error processing doc_1449.pdf: EOF marker not found\n",
      "Processing: doc_443.pdf\n",
      "Processing: doc_966.pdf\n",
      "Processing: doc_1499.pdf\n",
      "Error processing doc_1499.pdf: EOF marker not found\n",
      "Processing: doc_1004.pdf\n",
      "Processing: doc_202.pdf\n"
     ]
    },
    {
     "name": "stderr",
     "output_type": "stream",
     "text": [
      "ignore '/Perms' verify failed\n"
     ]
    },
    {
     "name": "stdout",
     "output_type": "stream",
     "text": [
      "Processing: doc_1054.pdf\n",
      "Processing: doc_363.pdf\n",
      "Processing: doc_790.pdf\n",
      "Processing: doc_1445.pdf\n",
      "Error processing doc_1445.pdf: EOF marker not found\n",
      "Processing: doc_1124.pdf\n",
      "Processing: doc_856.pdf\n",
      "Processing: doc_2270.pdf\n",
      "Processing: doc_496.pdf\n",
      "Processing: doc_1923.pdf\n"
     ]
    },
    {
     "name": "stderr",
     "output_type": "stream",
     "text": [
      "Overwriting cache for 0 984\n"
     ]
    },
    {
     "name": "stdout",
     "output_type": "stream",
     "text": [
      "Processing: doc_1758.pdf\n",
      "Processing: doc_1453.pdf\n",
      "Error processing doc_1453.pdf: EOF marker not found\n",
      "Processing: doc_688.pdf\n",
      "Processing: doc_654.pdf\n",
      "Processing: doc_1002.pdf\n",
      "Processing: doc_1962.pdf\n",
      "Processing: doc_2230.pdf\n",
      "Error processing doc_2230.pdf: EOF marker not found\n",
      "Processing: doc_1349.pdf\n",
      "Error processing doc_1349.pdf: EOF marker not found\n",
      "Processing: doc_4.pdf\n",
      "Processing: doc_1181.pdf\n",
      "Processing: doc_781.pdf\n",
      "Processing: doc_1418.pdf\n",
      "Error processing doc_1418.pdf: EOF marker not found\n",
      "Processing: doc_140.pdf\n",
      "Processing: doc_861.pdf\n",
      "Processing: doc_2359.pdf\n",
      "Processing: doc_354.pdf\n",
      "Processing: doc_154.pdf\n",
      "Processing: doc_2236.pdf\n",
      "Error processing doc_2236.pdf: EOF marker not found\n",
      "Processing: doc_573.pdf\n",
      "Processing: doc_2431.pdf\n",
      "Processing: doc_2074.pdf\n",
      "Error processing doc_2074.pdf: EOF marker not found\n",
      "Processing: doc_543.pdf\n",
      "Processing: doc_141.pdf\n",
      "Processing: doc_1875.pdf\n",
      "Processing: doc_19.pdf\n",
      "Processing: doc_901.pdf\n",
      "Processing: doc_825.pdf\n",
      "Processing: doc_143.pdf\n",
      "Processing: doc_1488.pdf\n",
      "Error processing doc_1488.pdf: EOF marker not found\n",
      "Processing: doc_1929.pdf\n",
      "Processing: doc_741.pdf\n",
      "Processing: doc_629.pdf\n"
     ]
    },
    {
     "name": "stderr",
     "output_type": "stream",
     "text": [
      "ignore '/Perms' verify failed\n"
     ]
    },
    {
     "name": "stdout",
     "output_type": "stream",
     "text": [
      "Processing: doc_1213.pdf\n",
      "Error processing doc_1213.pdf: EOF marker not found\n",
      "Processing: doc_1099.pdf\n",
      "Processing: doc_2025.pdf\n",
      "Processing: doc_1350.pdf\n",
      "Error processing doc_1350.pdf: EOF marker not found\n",
      "Processing: doc_539.pdf\n"
     ]
    },
    {
     "name": "stderr",
     "output_type": "stream",
     "text": [
      "ignore '/Perms' verify failed\n",
      "ignore '/Perms' verify failed\n"
     ]
    },
    {
     "name": "stdout",
     "output_type": "stream",
     "text": [
      "Processing: doc_905.pdf\n",
      "Processing: doc_1252.pdf\n",
      "Error processing doc_1252.pdf: EOF marker not found\n",
      "Processing: doc_2278.pdf\n",
      "Processing: doc_1053.pdf\n",
      "Processing: doc_295.pdf\n",
      "Processing: doc_96.pdf\n",
      "Processing: doc_757.pdf\n",
      "Processing: doc_408.pdf\n",
      "Processing: doc_2280.pdf\n",
      "Processing: doc_2086.pdf\n",
      "Processing: doc_1361.pdf\n",
      "Error processing doc_1361.pdf: EOF marker not found\n",
      "Processing: doc_1202.pdf\n",
      "Processing: doc_779.pdf\n"
     ]
    },
    {
     "name": "stderr",
     "output_type": "stream",
     "text": [
      "ignore '/Perms' verify failed\n"
     ]
    },
    {
     "name": "stdout",
     "output_type": "stream",
     "text": [
      "Processing: doc_89.pdf\n",
      "Processing: doc_2110.pdf\n",
      "Error processing doc_2110.pdf: EOF marker not found\n",
      "Processing: doc_2152.pdf\n",
      "Processing: doc_1269.pdf\n",
      "Error processing doc_1269.pdf: EOF marker not found\n",
      "Processing: doc_480.pdf\n",
      "Processing: doc_737.pdf\n"
     ]
    },
    {
     "name": "stderr",
     "output_type": "stream",
     "text": [
      "ignore '/Perms' verify failed\n"
     ]
    },
    {
     "name": "stdout",
     "output_type": "stream",
     "text": [
      "Processing: doc_1094.pdf\n",
      "Processing: doc_2457.pdf\n",
      "Processing: doc_704.pdf\n",
      "Processing: doc_1127.pdf\n",
      "Processing: doc_913.pdf\n",
      "Processing: doc_1115.pdf\n",
      "Processing: doc_1483.pdf\n",
      "Error processing doc_1483.pdf: EOF marker not found\n",
      "Processing: doc_2058.pdf\n",
      "Error processing doc_2058.pdf: EOF marker not found\n",
      "Processing: doc_317.pdf\n",
      "Processing: doc_368.pdf\n",
      "Processing: doc_1586.pdf\n",
      "Processing: doc_724.pdf\n",
      "Processing: doc_2023.pdf\n",
      "Error processing doc_2023.pdf: EOF marker not found\n",
      "Processing: doc_521.pdf\n",
      "Processing: doc_984.pdf\n",
      "Processing: doc_823.pdf\n",
      "Processing: doc_95.pdf\n",
      "Processing: doc_599.pdf\n",
      "Processing: doc_1477.pdf\n",
      "Error processing doc_1477.pdf: EOF marker not found\n",
      "Processing: doc_925.pdf\n",
      "Processing: doc_928.pdf\n",
      "Processing: doc_615.pdf\n",
      "Processing: doc_782.pdf\n",
      "Processing: doc_2052.pdf\n",
      "Error processing doc_2052.pdf: EOF marker not found\n",
      "Processing: doc_1064.pdf\n",
      "Processing: doc_276.pdf\n",
      "Processing: doc_1633.pdf\n",
      "Processing: doc_733.pdf\n",
      "Processing: doc_381.pdf\n"
     ]
    },
    {
     "name": "stderr",
     "output_type": "stream",
     "text": [
      "ignore '/Perms' verify failed\n"
     ]
    },
    {
     "name": "stdout",
     "output_type": "stream",
     "text": [
      "Processing: doc_2277.pdf\n",
      "Processing: doc_2446.pdf\n",
      "Processing: doc_1455.pdf\n",
      "Error processing doc_1455.pdf: EOF marker not found\n",
      "Processing: doc_9.pdf\n",
      "Processing: doc_2081.pdf\n",
      "Processing: doc_2214.pdf\n",
      "Processing: doc_1256.pdf\n",
      "Error processing doc_1256.pdf: EOF marker not found\n",
      "Processing: doc_1165.pdf\n",
      "Processing: doc_2237.pdf\n",
      "Processing: doc_1333.pdf\n",
      "Error processing doc_1333.pdf: EOF marker not found\n",
      "Processing: doc_1081.pdf\n",
      "Error processing doc_1081.pdf: EOF marker not found\n",
      "Processing: doc_2374.pdf\n",
      "Processing: doc_86.pdf\n",
      "Processing: doc_732.pdf\n",
      "Processing: doc_969.pdf\n",
      "Processing: doc_2437.pdf\n",
      "Processing: doc_366.pdf\n",
      "Processing: doc_10.pdf\n",
      "Processing: doc_2483.pdf\n",
      "Error processing doc_2483.pdf: EOF marker not found\n",
      "Processing: doc_626.pdf\n",
      "Processing: doc_1381.pdf\n",
      "Error processing doc_1381.pdf: EOF marker not found\n",
      "Processing: doc_1992.pdf\n",
      "Processing: doc_817.pdf\n",
      "Processing: doc_504.pdf\n",
      "Processing: doc_596.pdf\n",
      "Processing: doc_1375.pdf\n",
      "Error processing doc_1375.pdf: EOF marker not found\n",
      "Processing: doc_538.pdf\n",
      "Processing: doc_2403.pdf\n",
      "Processing: doc_537.pdf\n",
      "Processing: doc_2205.pdf\n",
      "Processing: doc_2170.pdf\n",
      "Error processing doc_2170.pdf: EOF marker not found\n",
      "Processing: doc_293.pdf\n",
      "Processing: doc_586.pdf\n",
      "Processing: doc_84.pdf\n",
      "Processing: doc_560.pdf\n",
      "Processing: doc_2337.pdf\n",
      "Error processing doc_2337.pdf: EOF marker not found\n",
      "Processing: doc_604.pdf\n",
      "Processing: doc_2143.pdf\n",
      "Processing: doc_166.pdf\n",
      "Processing: doc_655.pdf\n",
      "Processing: doc_1957.pdf\n",
      "Processing: doc_555.pdf\n",
      "Processing: doc_99.pdf\n",
      "Processing: doc_2415.pdf\n",
      "Processing: doc_2177.pdf\n",
      "Processing: doc_1647.pdf\n",
      "Processing: doc_2476.pdf\n",
      "Error processing doc_2476.pdf: EOF marker not found\n",
      "Processing: doc_556.pdf\n",
      "Processing: doc_2358.pdf\n",
      "Processing: doc_75.pdf\n",
      "Processing: doc_1129.pdf\n",
      "Error processing doc_1129.pdf: EOF marker not found\n",
      "Processing: doc_279.pdf\n",
      "Processing: doc_37.pdf\n",
      "Processing: doc_530.pdf\n",
      "Processing: doc_805.pdf\n",
      "Processing: doc_1914.pdf\n",
      "Processing: doc_589.pdf\n",
      "Processing: doc_367.pdf\n",
      "Processing: doc_2191.pdf\n",
      "Processing: doc_98.pdf\n",
      "Processing: doc_2396.pdf\n",
      "Processing: doc_722.pdf\n",
      "Processing: doc_2300.pdf\n",
      "Processing: doc_2436.pdf\n",
      "Processing: doc_1360.pdf\n",
      "Error processing doc_1360.pdf: EOF marker not found\n",
      "Processing: doc_525.pdf\n",
      "Processing: doc_820.pdf\n",
      "Processing: doc_880.pdf\n",
      "Processing: doc_720.pdf\n",
      "Processing: doc_831.pdf\n",
      "Processing: doc_714.pdf\n",
      "Processing: doc_82.pdf\n"
     ]
    },
    {
     "name": "stderr",
     "output_type": "stream",
     "text": [
      "ignore '/Perms' verify failed\n"
     ]
    },
    {
     "name": "stdout",
     "output_type": "stream",
     "text": [
      "Processing: doc_2079.pdf\n",
      "Processing: doc_489.pdf\n",
      "Processing: doc_1943.pdf\n",
      "Processing: doc_161.pdf\n",
      "Processing: doc_1965.pdf\n"
     ]
    },
    {
     "name": "stderr",
     "output_type": "stream",
     "text": [
      "Overwriting cache for 0 2498\n"
     ]
    },
    {
     "name": "stdout",
     "output_type": "stream",
     "text": [
      "Processing: doc_854.pdf\n",
      "Processing: doc_763.pdf\n",
      "Processing: doc_278.pdf\n",
      "Processing: doc_1286.pdf\n",
      "Error processing doc_1286.pdf: EOF marker not found\n",
      "Processing: doc_1314.pdf\n",
      "Error processing doc_1314.pdf: EOF marker not found\n",
      "Processing: doc_2467.pdf\n",
      "Processing: doc_947.pdf\n",
      "Error processing doc_947.pdf: EOF marker not found\n",
      "Processing: doc_482.pdf\n",
      "Processing: doc_2510.pdf\n",
      "Processing: doc_1677.pdf\n",
      "Processing: doc_271.pdf\n",
      "Processing: doc_611.pdf\n",
      "Processing: doc_39.pdf\n",
      "Processing: doc_2154.pdf\n",
      "Processing: doc_2346.pdf\n",
      "Processing: doc_536.pdf\n",
      "Processing: doc_1358.pdf\n",
      "Error processing doc_1358.pdf: EOF marker not found\n",
      "Processing: doc_1937.pdf\n",
      "Processing: doc_1638.pdf\n",
      "Processing: doc_526.pdf\n",
      "Processing: doc_542.pdf\n",
      "Processing: doc_2254.pdf\n",
      "Processing: doc_1035.pdf\n",
      "Processing: doc_610.pdf\n",
      "Processing: doc_1924.pdf\n",
      "Processing: doc_2536.pdf\n",
      "Processing: doc_912.pdf\n",
      "Processing: doc_358.pdf\n",
      "Processing: doc_470.pdf\n",
      "Processing: doc_981.pdf\n",
      "Processing: doc_478.pdf\n",
      "Processing: doc_544.pdf\n",
      "Processing: doc_2168.pdf\n",
      "Processing: doc_978.pdf\n",
      "Processing: doc_1440.pdf\n",
      "Error processing doc_1440.pdf: EOF marker not found\n",
      "Processing: doc_952.pdf\n"
     ]
    },
    {
     "name": "stderr",
     "output_type": "stream",
     "text": [
      "ignore '/Perms' verify failed\n"
     ]
    },
    {
     "name": "stdout",
     "output_type": "stream",
     "text": [
      "Processing: doc_2022.pdf\n",
      "Processing: doc_213.pdf\n",
      "Processing: doc_844.pdf\n",
      "Processing: doc_717.pdf\n",
      "Processing: doc_1932.pdf\n",
      "Processing: doc_2027.pdf\n",
      "Processing: doc_753.pdf\n",
      "Processing: doc_628.pdf\n",
      "Processing: doc_2465.pdf\n",
      "Processing: doc_1190.pdf\n",
      "Processing: doc_2400.pdf\n",
      "Processing: doc_503.pdf\n",
      "Processing: doc_852.pdf\n",
      "Processing: doc_11.pdf\n",
      "Processing: doc_1077.pdf\n",
      "Processing: doc_2261.pdf\n",
      "Processing: doc_145.pdf\n",
      "Processing: doc_1690.pdf\n",
      "Processing: doc_659.pdf\n",
      "Processing: doc_179.pdf\n",
      "Processing: doc_393.pdf\n",
      "Processing: doc_2054.pdf\n",
      "Processing: doc_956.pdf\n",
      "Processing: doc_108.pdf\n",
      "Processing: doc_837.pdf\n",
      "Processing: doc_1340.pdf\n",
      "Error processing doc_1340.pdf: EOF marker not found\n",
      "Processing: doc_316.pdf\n"
     ]
    },
    {
     "name": "stderr",
     "output_type": "stream",
     "text": [
      "unknown widths : \n",
      "[0, IndirectObject(164, 0, 140428742491312)]\n",
      "unknown widths : \n",
      "[0, IndirectObject(168, 0, 140428742491312)]\n",
      "unknown widths : \n",
      "[0, IndirectObject(172, 0, 140428742491312)]\n",
      "unknown widths : \n",
      "[0, IndirectObject(176, 0, 140428742491312)]\n",
      "unknown widths : \n",
      "[0, IndirectObject(180, 0, 140428742491312)]\n",
      "unknown widths : \n",
      "[0, IndirectObject(184, 0, 140428742491312)]\n",
      "unknown widths : \n",
      "[0, IndirectObject(188, 0, 140428742491312)]\n",
      "unknown widths : \n",
      "[0, IndirectObject(192, 0, 140428742491312)]\n",
      "unknown widths : \n",
      "[0, IndirectObject(196, 0, 140428742491312)]\n",
      "unknown widths : \n",
      "[0, IndirectObject(200, 0, 140428742491312)]\n",
      "unknown widths : \n",
      "[0, IndirectObject(204, 0, 140428742491312)]\n",
      "unknown widths : \n",
      "[0, IndirectObject(208, 0, 140428742491312)]\n"
     ]
    },
    {
     "name": "stdout",
     "output_type": "stream",
     "text": [
      "Processing: doc_657.pdf\n",
      "Processing: doc_2410.pdf\n",
      "Processing: doc_437.pdf\n",
      "Error processing doc_437.pdf: EOF marker not found\n",
      "Processing: doc_1312.pdf\n",
      "Error processing doc_1312.pdf: EOF marker not found\n",
      "Processing: doc_387.pdf\n",
      "Processing: doc_1184.pdf\n",
      "Processing: doc_252.pdf\n"
     ]
    },
    {
     "name": "stderr",
     "output_type": "stream",
     "text": [
      "Overwriting cache for 0 1324\n"
     ]
    },
    {
     "name": "stdout",
     "output_type": "stream",
     "text": [
      "Processing: doc_1250.pdf\n",
      "Error processing doc_1250.pdf: EOF marker not found\n",
      "Processing: doc_1969.pdf\n",
      "Processing: doc_486.pdf\n"
     ]
    },
    {
     "name": "stderr",
     "output_type": "stream",
     "text": [
      "ignore '/Perms' verify failed\n"
     ]
    },
    {
     "name": "stdout",
     "output_type": "stream",
     "text": [
      "Processing: doc_1904.pdf\n",
      "Processing: doc_1364.pdf\n",
      "Error processing doc_1364.pdf: EOF marker not found\n",
      "Processing: doc_2049.pdf\n",
      "Processing: doc_520.pdf\n",
      "Processing: doc_2393.pdf\n",
      "Processing: doc_1122.pdf\n",
      "Error processing doc_1122.pdf: EOF marker not found\n",
      "Processing: doc_1320.pdf\n",
      "Error processing doc_1320.pdf: EOF marker not found\n",
      "Processing: doc_685.pdf\n",
      "Processing: doc_1966.pdf\n",
      "Processing: doc_2055.pdf\n",
      "Processing: doc_523.pdf\n",
      "Processing: doc_303.pdf\n",
      "Processing: doc_734.pdf\n",
      "Processing: doc_907.pdf\n",
      "Processing: doc_428.pdf\n",
      "Processing: doc_2505.pdf\n",
      "Error processing doc_2505.pdf: EOF marker not found\n",
      "Processing: doc_1876.pdf\n"
     ]
    },
    {
     "name": "stderr",
     "output_type": "stream",
     "text": [
      "ignore '/Perms' verify failed\n"
     ]
    },
    {
     "name": "stdout",
     "output_type": "stream",
     "text": [
      "Processing: doc_2455.pdf\n",
      "Processing: doc_42.pdf\n",
      "Processing: doc_1386.pdf\n",
      "Error processing doc_1386.pdf: EOF marker not found\n",
      "Processing: doc_1102.pdf\n",
      "Processing: doc_1998.pdf\n",
      "Processing: doc_308.pdf\n",
      "Processing: doc_31.pdf\n",
      "Processing: doc_1920.pdf\n"
     ]
    },
    {
     "name": "stderr",
     "output_type": "stream",
     "text": [
      "ignore '/Perms' verify failed\n"
     ]
    },
    {
     "name": "stdout",
     "output_type": "stream",
     "text": [
      "Processing: doc_1092.pdf\n",
      "Processing: doc_633.pdf\n",
      "Processing: doc_2064.pdf\n",
      "Error processing doc_2064.pdf: EOF marker not found\n",
      "Processing: doc_1367.pdf\n",
      "Error processing doc_1367.pdf: EOF marker not found\n",
      "Processing: doc_896.pdf\n",
      "Processing: doc_2185.pdf\n",
      "Processing: doc_916.pdf\n",
      "Processing: doc_2040.pdf\n",
      "Processing: doc_1470.pdf\n",
      "Error processing doc_1470.pdf: EOF marker not found\n",
      "Processing: doc_796.pdf\n",
      "Processing: doc_1308.pdf\n",
      "Error processing doc_1308.pdf: EOF marker not found\n",
      "Processing: doc_169.pdf\n",
      "Processing: doc_1303.pdf\n",
      "Error processing doc_1303.pdf: EOF marker not found\n",
      "Processing: doc_2371.pdf\n",
      "Processing: doc_1569.pdf\n",
      "Processing: doc_1960.pdf\n",
      "Processing: doc_774.pdf\n",
      "Processing: doc_903.pdf\n",
      "Processing: doc_304.pdf\n",
      "Processing: doc_1284.pdf\n",
      "Error processing doc_1284.pdf: EOF marker not found\n",
      "Processing: doc_756.pdf\n",
      "Processing: doc_533.pdf\n",
      "Processing: doc_35.pdf\n",
      "Error processing doc_35.pdf: EOF marker not found\n",
      "Processing: doc_1568.pdf\n",
      "Processing: doc_670.pdf\n",
      "Processing: doc_49.pdf\n",
      "Processing: doc_932.pdf\n",
      "Error processing doc_932.pdf: EOF marker not found\n",
      "Processing: doc_974.pdf\n",
      "Processing: doc_729.pdf\n",
      "Processing: doc_1362.pdf\n",
      "Error processing doc_1362.pdf: EOF marker not found\n",
      "Processing: doc_1162.pdf\n",
      "Error processing doc_1162.pdf: EOF marker not found\n",
      "Processing: doc_1975.pdf\n",
      "Processing: doc_773.pdf\n",
      "Processing: doc_770.pdf\n",
      "Processing: doc_636.pdf\n",
      "Processing: doc_2409.pdf\n",
      "Processing: doc_62.pdf\n",
      "Processing: doc_180.pdf\n",
      "Processing: doc_885.pdf\n"
     ]
    },
    {
     "name": "stderr",
     "output_type": "stream",
     "text": [
      "ignore '/Perms' verify failed\n"
     ]
    },
    {
     "name": "stdout",
     "output_type": "stream",
     "text": [
      "Processing: doc_2093.pdf\n",
      "Processing: doc_1482.pdf\n",
      "Error processing doc_1482.pdf: EOF marker not found\n",
      "Processing: doc_1277.pdf\n",
      "Processing: doc_73.pdf\n",
      "Processing: doc_594.pdf\n",
      "Processing: doc_887.pdf\n",
      "Processing: doc_361.pdf\n",
      "Processing: doc_1652.pdf\n",
      "Processing: doc_664.pdf\n",
      "Processing: doc_2104.pdf\n",
      "Error processing doc_2104.pdf: EOF marker not found\n",
      "Processing: doc_2111.pdf\n",
      "Processing: doc_541.pdf\n",
      "Processing: doc_1170.pdf\n",
      "Processing: doc_118.pdf\n",
      "Processing: doc_1741.pdf\n",
      "Processing: doc_134.pdf\n",
      "Processing: doc_1979.pdf\n",
      "Processing: doc_840.pdf\n",
      "Processing: doc_2196.pdf\n",
      "Processing: doc_2273.pdf\n",
      "Processing: doc_1402.pdf\n",
      "Error processing doc_1402.pdf: EOF marker not found\n",
      "Processing: doc_1339.pdf\n",
      "Error processing doc_1339.pdf: EOF marker not found\n",
      "Processing: doc_270.pdf\n",
      "Processing: doc_2290.pdf\n",
      "Processing: doc_551.pdf\n",
      "Processing: doc_492.pdf\n",
      "Processing: doc_1125.pdf\n",
      "Processing: doc_742.pdf\n",
      "Processing: doc_315.pdf\n",
      "Processing: doc_1910.pdf\n",
      "Processing: doc_302.pdf\n",
      "Processing: doc_50.pdf\n",
      "Processing: doc_562.pdf\n",
      "Processing: doc_587.pdf\n",
      "Processing: doc_535.pdf\n",
      "Processing: doc_783.pdf\n",
      "Processing: doc_59.pdf\n",
      "Processing: doc_510.pdf\n",
      "Processing: doc_1428.pdf\n",
      "Error processing doc_1428.pdf: EOF marker not found\n",
      "Processing: doc_2355.pdf\n",
      "Processing: doc_1534.pdf\n"
     ]
    },
    {
     "name": "stderr",
     "output_type": "stream",
     "text": [
      "ignore '/Perms' verify failed\n"
     ]
    },
    {
     "name": "stdout",
     "output_type": "stream",
     "text": [
      "Processing: doc_2105.pdf\n",
      "Processing: doc_697.pdf\n",
      "Processing: doc_1011.pdf\n",
      "Processing: doc_2029.pdf\n",
      "Processing: doc_676.pdf\n",
      "Processing: doc_2384.pdf\n",
      "Processing: doc_1526.pdf\n",
      "Processing: doc_761.pdf\n",
      "Processing: doc_272.pdf\n",
      "Processing: doc_1371.pdf\n",
      "Error processing doc_1371.pdf: EOF marker not found\n",
      "Processing: doc_142.pdf\n",
      "Processing: doc_2180.pdf\n",
      "Error processing doc_2180.pdf: EOF marker not found\n",
      "Processing: doc_784.pdf\n",
      "Processing: doc_1183.pdf\n",
      "Error processing doc_1183.pdf: EOF marker not found\n",
      "Processing: doc_71.pdf\n",
      "Processing: doc_2269.pdf\n",
      "Processing: doc_607.pdf\n",
      "Processing: doc_1916.pdf\n",
      "Error processing doc_1916.pdf: EOF marker not found\n",
      "Processing: doc_340.pdf\n",
      "Processing: doc_1495.pdf\n",
      "Error processing doc_1495.pdf: EOF marker not found\n",
      "Processing: doc_438.pdf\n",
      "Processing: doc_216.pdf\n",
      "Processing: doc_1311.pdf\n",
      "Error processing doc_1311.pdf: EOF marker not found\n",
      "Processing: doc_1591.pdf\n",
      "Processing: doc_12.pdf\n",
      "Processing: doc_681.pdf\n",
      "Processing: doc_2018.pdf\n",
      "Processing: doc_639.pdf\n",
      "Processing: doc_2231.pdf\n",
      "Processing: doc_1016.pdf\n",
      "Processing: doc_2020.pdf\n",
      "Processing: doc_1485.pdf\n",
      "Error processing doc_1485.pdf: EOF marker not found\n",
      "Processing: doc_834.pdf\n",
      "Processing: doc_578.pdf\n",
      "Processing: doc_2082.pdf\n",
      "Processing: doc_598.pdf\n",
      "Processing: doc_728.pdf\n",
      "Processing: doc_391.pdf\n",
      "Processing: doc_1321.pdf\n",
      "Error processing doc_1321.pdf: EOF marker not found\n",
      "Processing: doc_1667.pdf\n",
      "Processing: doc_2158.pdf\n",
      "Error processing doc_2158.pdf: EOF marker not found\n",
      "Processing: doc_2189.pdf\n",
      "Error processing doc_2189.pdf: EOF marker not found\n",
      "Processing: doc_2378.pdf\n",
      "Error processing doc_2378.pdf: EOF marker not found\n",
      "Processing: doc_643.pdf\n",
      "Processing: doc_58.pdf\n",
      "Processing: doc_2325.pdf\n",
      "Processing: doc_2412.pdf\n",
      "Processing: doc_1130.pdf\n",
      "Error processing doc_1130.pdf: EOF marker not found\n",
      "Processing: doc_2267.pdf\n",
      "Processing: doc_1346.pdf\n",
      "Error processing doc_1346.pdf: EOF marker not found\n",
      "Processing: doc_476.pdf\n"
     ]
    },
    {
     "name": "stderr",
     "output_type": "stream",
     "text": [
      "ignore '/Perms' verify failed\n"
     ]
    },
    {
     "name": "stdout",
     "output_type": "stream",
     "text": [
      "Processing: doc_2351.pdf\n",
      "Error processing doc_2351.pdf: EOF marker not found\n",
      "Processing: doc_25.pdf\n",
      "Processing: doc_1478.pdf\n",
      "Error processing doc_1478.pdf: EOF marker not found\n",
      "Processing: doc_2031.pdf\n",
      "Processing: doc_922.pdf\n",
      "Error processing doc_922.pdf: EOF marker not found\n",
      "Processing: doc_455.pdf\n",
      "Error processing doc_455.pdf: Cannot read an empty file\n",
      "Processing: doc_2366.pdf\n",
      "Processing: doc_876.pdf\n",
      "Processing: doc_1179.pdf\n",
      "Error processing doc_1179.pdf: EOF marker not found\n",
      "Processing: doc_1469.pdf\n",
      "Error processing doc_1469.pdf: EOF marker not found\n",
      "Processing: doc_1336.pdf\n",
      "Processing: doc_1319.pdf\n",
      "Processing: doc_1725.pdf\n",
      "Processing: doc_603.pdf\n",
      "Processing: doc_1315.pdf\n",
      "Error processing doc_1315.pdf: EOF marker not found\n",
      "Processing: doc_36.pdf\n"
     ]
    },
    {
     "name": "stderr",
     "output_type": "stream",
     "text": [
      "ignore '/Perms' verify failed\n"
     ]
    },
    {
     "name": "stdout",
     "output_type": "stream",
     "text": [
      "Processing: doc_572.pdf\n",
      "Processing: doc_1089.pdf\n",
      "Processing: doc_34.pdf\n",
      "Processing: doc_623.pdf\n",
      "Processing: doc_1276.pdf\n",
      "Error processing doc_1276.pdf: EOF marker not found\n",
      "Processing: doc_514.pdf\n",
      "Processing: doc_682.pdf\n",
      "Processing: doc_1955.pdf\n",
      "Processing: doc_853.pdf\n",
      "Processing: doc_1454.pdf\n",
      "Error processing doc_1454.pdf: EOF marker not found\n",
      "Processing: doc_2057.pdf\n",
      "Error processing doc_2057.pdf: EOF marker not found\n",
      "Processing: doc_2250.pdf\n",
      "Processing: doc_195.pdf\n",
      "Processing: doc_2499.pdf\n",
      "Processing: doc_735.pdf\n",
      "Processing: doc_2421.pdf\n",
      "Processing: doc_1436.pdf\n",
      "Error processing doc_1436.pdf: EOF marker not found\n",
      "Processing: doc_976.pdf\n",
      "Processing: doc_389.pdf\n",
      "Processing: doc_625.pdf\n",
      "Processing: doc_873.pdf\n",
      "Processing: doc_243.pdf\n"
     ]
    },
    {
     "name": "stderr",
     "output_type": "stream",
     "text": [
      "ignore '/Perms' verify failed\n"
     ]
    },
    {
     "name": "stdout",
     "output_type": "stream",
     "text": [
      "Processing: doc_1093.pdf\n",
      "Processing: doc_713.pdf\n",
      "Processing: doc_690.pdf\n",
      "Processing: doc_1949.pdf\n",
      "Processing: doc_2155.pdf\n",
      "Error processing doc_2155.pdf: EOF marker not found\n",
      "Processing: doc_2235.pdf\n",
      "Processing: doc_201.pdf\n",
      "Processing: doc_1177.pdf\n",
      "Processing: doc_909.pdf\n",
      "Processing: doc_2038.pdf\n",
      "Processing: doc_711.pdf\n",
      "Processing: doc_759.pdf\n",
      "Processing: doc_156.pdf\n",
      "Processing: doc_471.pdf\n",
      "Processing: doc_1895.pdf\n",
      "Processing: doc_8.pdf\n",
      "Processing: doc_481.pdf\n",
      "Processing: doc_2424.pdf\n",
      "Processing: doc_2272.pdf\n",
      "Error processing doc_2272.pdf: EOF marker not found\n",
      "Processing: doc_836.pdf\n"
     ]
    },
    {
     "name": "stderr",
     "output_type": "stream",
     "text": [
      "ignore '/Perms' verify failed\n"
     ]
    },
    {
     "name": "stdout",
     "output_type": "stream",
     "text": [
      "Processing: doc_1954.pdf\n",
      "Error processing doc_1954.pdf: EOF marker not found\n",
      "Processing: doc_1055.pdf\n",
      "Processing: doc_2315.pdf\n",
      "Processing: doc_2503.pdf\n"
     ]
    },
    {
     "name": "stderr",
     "output_type": "stream",
     "text": [
      "ignore '/Perms' verify failed\n"
     ]
    },
    {
     "name": "stdout",
     "output_type": "stream",
     "text": [
      "Processing: doc_403.pdf\n",
      "Processing: doc_1227.pdf\n",
      "Error processing doc_1227.pdf: EOF marker not found\n",
      "Processing: doc_1135.pdf\n",
      "Error processing doc_1135.pdf: EOF marker not found\n",
      "Processing: doc_2087.pdf\n",
      "Processing: doc_1114.pdf\n",
      "Error processing doc_1114.pdf: EOF marker not found\n",
      "Processing: doc_716.pdf\n",
      "Processing: doc_1243.pdf\n",
      "Error processing doc_1243.pdf: EOF marker not found\n",
      "Processing: doc_2515.pdf\n",
      "Error processing doc_2515.pdf: EOF marker not found\n",
      "Processing: doc_963.pdf\n",
      "Processing: doc_751.pdf\n",
      "Processing: doc_2390.pdf\n",
      "Error processing doc_2390.pdf: EOF marker not found\n",
      "Processing: doc_2469.pdf\n",
      "Processing: doc_1460.pdf\n",
      "Error processing doc_1460.pdf: EOF marker not found\n",
      "Processing: doc_2286.pdf\n",
      "Processing: doc_1239.pdf\n",
      "Error processing doc_1239.pdf: EOF marker not found\n",
      "Processing: doc_1974.pdf\n",
      "Error processing doc_1974.pdf: EOF marker not found\n",
      "Processing: doc_577.pdf\n",
      "Processing: doc_2293.pdf\n",
      "Processing: doc_715.pdf\n",
      "Processing: doc_2144.pdf\n",
      "Processing: doc_565.pdf\n",
      "Processing: doc_513.pdf\n"
     ]
    },
    {
     "name": "stderr",
     "output_type": "stream",
     "text": [
      "ignore '/Perms' verify failed\n"
     ]
    },
    {
     "name": "stdout",
     "output_type": "stream",
     "text": [
      "Processing: doc_2296.pdf\n",
      "Error processing doc_2296.pdf: EOF marker not found\n",
      "Processing: doc_678.pdf\n",
      "Processing: doc_1050.pdf\n",
      "Processing: doc_1039.pdf\n",
      "Processing: doc_1163.pdf\n",
      "Processing: doc_2041.pdf\n",
      "Processing: doc_1019.pdf\n",
      "Processing: doc_488.pdf\n",
      "Processing: doc_60.pdf\n",
      "Processing: doc_146.pdf\n",
      "Processing: doc_2500.pdf\n",
      "Processing: doc_0.pdf\n",
      "Processing: doc_2263.pdf\n",
      "Processing: doc_200.pdf\n",
      "Processing: doc_765.pdf\n",
      "Processing: doc_2439.pdf\n",
      "Processing: doc_2283.pdf\n",
      "Processing: doc_673.pdf\n",
      "Processing: doc_1993.pdf\n",
      "Processing: doc_661.pdf\n"
     ]
    },
    {
     "name": "stderr",
     "output_type": "stream",
     "text": [
      "Overwriting cache for 0 1324\n"
     ]
    },
    {
     "name": "stdout",
     "output_type": "stream",
     "text": [
      "Processing: doc_280.pdf\n",
      "Error processing doc_280.pdf: EOF marker not found\n",
      "Processing: doc_2223.pdf\n",
      "Error processing doc_2223.pdf: EOF marker not found\n",
      "Processing: doc_1959.pdf\n",
      "Processing: doc_866.pdf\n",
      "Processing: doc_2373.pdf\n",
      "Error processing doc_2373.pdf: EOF marker not found\n",
      "Processing: doc_2295.pdf\n",
      "Processing: doc_1907.pdf\n",
      "Processing: doc_2204.pdf\n",
      "Processing: doc_1131.pdf\n",
      "Error processing doc_1131.pdf: EOF marker not found\n",
      "Processing: doc_28.pdf\n",
      "Processing: doc_1442.pdf\n",
      "Error processing doc_1442.pdf: EOF marker not found\n",
      "Processing: doc_2441.pdf\n",
      "Processing: doc_531.pdf\n",
      "Processing: doc_1663.pdf\n",
      "Processing: doc_1558.pdf\n",
      "Processing: doc_2142.pdf\n",
      "Processing: doc_175.pdf\n",
      "Processing: doc_198.pdf\n",
      "Processing: doc_977.pdf\n",
      "Processing: doc_43.pdf\n",
      "Processing: doc_644.pdf\n",
      "Processing: doc_1967.pdf\n",
      "Processing: doc_2131.pdf\n",
      "Error processing doc_2131.pdf: EOF marker not found\n",
      "Processing: doc_2173.pdf\n",
      "Processing: doc_1063.pdf\n",
      "Processing: doc_822.pdf\n",
      "Processing: doc_835.pdf\n",
      "Processing: doc_65.pdf\n",
      "Error processing doc_65.pdf: EOF marker not found\n",
      "Processing: doc_222.pdf\n",
      "Processing: doc_456.pdf\n",
      "Error processing doc_456.pdf: Cannot read an empty file\n",
      "Processing: doc_2397.pdf\n",
      "Processing: doc_911.pdf\n",
      "Processing: doc_931.pdf\n",
      "Error processing doc_931.pdf: EOF marker not found\n",
      "Processing: doc_794.pdf\n",
      "Processing: doc_561.pdf\n",
      "Processing: doc_842.pdf\n",
      "Processing: doc_1028.pdf\n",
      "Processing: doc_855.pdf\n",
      "Processing: doc_193.pdf\n",
      "Processing: doc_1356.pdf\n",
      "Error processing doc_1356.pdf: EOF marker not found\n",
      "Processing: doc_1353.pdf\n",
      "Error processing doc_1353.pdf: EOF marker not found\n",
      "Processing: doc_778.pdf\n",
      "Processing: doc_617.pdf\n",
      "Processing: doc_605.pdf\n",
      "Processing: doc_2085.pdf\n",
      "Processing: doc_892.pdf\n",
      "Error processing doc_892.pdf: EOF marker not found\n",
      "Processing: doc_570.pdf\n",
      "Processing: doc_2097.pdf\n",
      "Error processing doc_2097.pdf: EOF marker not found\n",
      "Processing: doc_1918.pdf\n",
      "Processing: doc_645.pdf\n",
      "Processing: doc_2014.pdf\n",
      "Error processing doc_2014.pdf: EOF marker not found\n",
      "Processing: doc_1105.pdf\n",
      "Error processing doc_1105.pdf: EOF marker not found\n",
      "Processing: doc_1084.pdf\n",
      "Processing: doc_684.pdf\n"
     ]
    },
    {
     "name": "stderr",
     "output_type": "stream",
     "text": [
      "ignore '/Perms' verify failed\n"
     ]
    },
    {
     "name": "stdout",
     "output_type": "stream",
     "text": [
      "Processing: doc_1422.pdf\n",
      "Error processing doc_1422.pdf: EOF marker not found\n",
      "Processing: doc_2045.pdf\n",
      "Processing: doc_436.pdf\n",
      "Processing: doc_547.pdf\n",
      "Processing: doc_809.pdf\n",
      "Processing: doc_2402.pdf\n"
     ]
    },
    {
     "name": "stderr",
     "output_type": "stream",
     "text": [
      "ignore '/Perms' verify failed\n"
     ]
    },
    {
     "name": "stdout",
     "output_type": "stream",
     "text": [
      "Processing: doc_635.pdf\n",
      "Processing: doc_2048.pdf\n",
      "Processing: doc_1744.pdf\n",
      "Processing: doc_442.pdf\n",
      "Processing: doc_787.pdf\n",
      "Processing: doc_686.pdf\n",
      "Processing: doc_1231.pdf\n",
      "Error processing doc_1231.pdf: EOF marker not found\n",
      "Processing: doc_2212.pdf\n",
      "Error processing doc_2212.pdf: EOF marker not found\n",
      "Processing: doc_2114.pdf\n",
      "Processing: doc_66.pdf\n",
      "Processing: doc_221.pdf\n",
      "Processing: doc_648.pdf\n",
      "Processing: doc_2224.pdf\n",
      "Error processing doc_2224.pdf: EOF marker not found\n",
      "Processing: doc_1444.pdf\n",
      "Error processing doc_1444.pdf: EOF marker not found\n",
      "Processing: doc_33.pdf\n",
      "Processing: doc_549.pdf\n",
      "Processing: doc_2285.pdf\n",
      "Processing: doc_2354.pdf\n",
      "Processing: doc_497.pdf\n",
      "Processing: doc_1625.pdf\n",
      "Processing: doc_463.pdf\n",
      "Processing: doc_527.pdf\n"
     ]
    },
    {
     "name": "stderr",
     "output_type": "stream",
     "text": [
      "ignore '/Perms' verify failed\n"
     ]
    },
    {
     "name": "stdout",
     "output_type": "stream",
     "text": [
      "Processing: doc_1426.pdf\n",
      "Error processing doc_1426.pdf: EOF marker not found\n",
      "Processing: doc_1448.pdf\n",
      "Error processing doc_1448.pdf: EOF marker not found\n",
      "Processing: doc_2133.pdf\n",
      "Error processing doc_2133.pdf: EOF marker not found\n",
      "Processing: doc_1270.pdf\n",
      "Processing: doc_755.pdf\n",
      "Processing: doc_2504.pdf\n",
      "Processing: doc_292.pdf\n",
      "Processing: doc_2.pdf\n",
      "Processing: doc_2408.pdf\n",
      "Processing: doc_1171.pdf\n",
      "Processing: doc_2033.pdf\n",
      "Processing: doc_1383.pdf\n",
      "Error processing doc_1383.pdf: EOF marker not found\n",
      "Processing: doc_1578.pdf\n",
      "Processing: doc_46.pdf\n",
      "Processing: doc_1447.pdf\n",
      "Error processing doc_1447.pdf: EOF marker not found\n",
      "Processing: doc_1203.pdf\n",
      "Error processing doc_1203.pdf: EOF marker not found\n",
      "Processing: doc_1437.pdf\n",
      "Error processing doc_1437.pdf: EOF marker not found\n",
      "Processing: doc_137.pdf\n",
      "Processing: doc_1119.pdf\n",
      "Error processing doc_1119.pdf: EOF marker not found\n",
      "Processing: doc_187.pdf\n",
      "Processing: doc_669.pdf\n",
      "Processing: doc_2070.pdf\n",
      "Processing: doc_2150.pdf\n",
      "Processing: doc_291.pdf\n",
      "Processing: doc_2294.pdf\n",
      "Processing: doc_1429.pdf\n",
      "Error processing doc_1429.pdf: EOF marker not found\n",
      "Processing: doc_2050.pdf\n",
      "Processing: doc_945.pdf\n",
      "Error processing doc_945.pdf: EOF marker not found\n",
      "Processing: doc_2502.pdf\n",
      "Error processing doc_2502.pdf: EOF marker not found\n",
      "Processing: doc_515.pdf\n",
      "Processing: doc_731.pdf\n",
      "Processing: doc_2303.pdf\n",
      "Processing: doc_1933.pdf\n",
      "Processing: doc_1925.pdf\n",
      "Processing: doc_1947.pdf\n",
      "Processing: doc_1326.pdf\n",
      "Error processing doc_1326.pdf: EOF marker not found\n",
      "Processing: doc_1640.pdf\n",
      "Processing: doc_203.pdf\n",
      "Processing: doc_1490.pdf\n",
      "Error processing doc_1490.pdf: EOF marker not found\n",
      "Processing: doc_2166.pdf\n",
      "Processing: doc_608.pdf\n",
      "Processing: doc_1464.pdf\n",
      "Error processing doc_1464.pdf: EOF marker not found\n",
      "Processing: doc_1295.pdf\n",
      "Error processing doc_1295.pdf: EOF marker not found\n",
      "Processing: doc_2109.pdf\n",
      "Processing: doc_1015.pdf\n",
      "Processing: doc_1624.pdf\n",
      "Processing: doc_490.pdf\n",
      "Processing: doc_2193.pdf\n",
      "Processing: doc_2099.pdf\n",
      "Processing: doc_1897.pdf\n",
      "Processing: doc_2299.pdf\n",
      "Processing: doc_93.pdf\n"
     ]
    },
    {
     "name": "stderr",
     "output_type": "stream",
     "text": [
      "unknown widths : \n",
      "[0, IndirectObject(503, 0, 140428608062960)]\n",
      "unknown widths : \n",
      "[0, IndirectObject(498, 0, 140428608062960)]\n"
     ]
    },
    {
     "name": "stdout",
     "output_type": "stream",
     "text": [
      "Processing: doc_988.pdf\n",
      "Processing: doc_2010.pdf\n",
      "Error processing doc_2010.pdf: EOF marker not found\n",
      "Processing: doc_2362.pdf\n",
      "Processing: doc_55.pdf\n"
     ]
    },
    {
     "name": "stderr",
     "output_type": "stream",
     "text": [
      "unknown widths : \n",
      "[0, IndirectObject(503, 0, 140428608062960)]\n",
      "unknown widths : \n",
      "[0, IndirectObject(498, 0, 140428608062960)]\n"
     ]
    },
    {
     "name": "stdout",
     "output_type": "stream",
     "text": [
      "Processing: doc_1369.pdf\n",
      "Error processing doc_1369.pdf: EOF marker not found\n",
      "Processing: doc_2350.pdf\n",
      "Error processing doc_2350.pdf: EOF marker not found\n",
      "Processing: doc_1696.pdf\n",
      "Processing: doc_601.pdf\n",
      "Processing: doc_120.pdf\n",
      "Processing: doc_430.pdf\n"
     ]
    },
    {
     "name": "stderr",
     "output_type": "stream",
     "text": [
      "ignore '/Perms' verify failed\n"
     ]
    },
    {
     "name": "stdout",
     "output_type": "stream",
     "text": [
      "Processing: doc_1070.pdf\n",
      "Processing: doc_2332.pdf\n",
      "Processing: doc_407.pdf\n",
      "Processing: doc_799.pdf\n",
      "Processing: doc_2349.pdf\n",
      "Processing: doc_2255.pdf\n",
      "Processing: doc_26.pdf\n",
      "Processing: doc_2463.pdf\n",
      "Processing: doc_501.pdf\n",
      "Processing: doc_2561.pdf\n",
      "Error processing doc_2561.pdf: EOF marker not found\n",
      "Processing: doc_432.pdf\n"
     ]
    },
    {
     "name": "stderr",
     "output_type": "stream",
     "text": [
      "ignore '/Perms' verify failed\n",
      "ignore '/Perms' verify failed\n"
     ]
    },
    {
     "name": "stdout",
     "output_type": "stream",
     "text": [
      "Processing: doc_1344.pdf\n",
      "Error processing doc_1344.pdf: EOF marker not found\n",
      "Processing: doc_1120.pdf\n",
      "Error processing doc_1120.pdf: EOF marker not found\n",
      "Processing: doc_1479.pdf\n",
      "Error processing doc_1479.pdf: EOF marker not found\n",
      "Processing: doc_1031.pdf\n",
      "Processing: doc_1405.pdf\n",
      "Error processing doc_1405.pdf: EOF marker not found\n",
      "Processing: doc_2039.pdf\n",
      "Error processing doc_2039.pdf: EOF marker not found\n",
      "Processing: doc_1051.pdf\n",
      "Processing: doc_721.pdf\n",
      "Processing: doc_1466.pdf\n",
      "Error processing doc_1466.pdf: EOF marker not found\n",
      "Processing: doc_667.pdf\n",
      "Processing: doc_518.pdf\n",
      "Processing: doc_703.pdf\n",
      "Processing: doc_2264.pdf\n",
      "Error processing doc_2264.pdf: EOF marker not found\n",
      "Processing: doc_332.pdf\n",
      "Processing: doc_971.pdf\n",
      "Processing: doc_2398.pdf\n",
      "Processing: doc_1565.pdf\n",
      "Processing: doc_2232.pdf\n",
      "Processing: doc_1000.pdf\n",
      "Error processing doc_1000.pdf: EOF marker not found\n",
      "Processing: doc_1013.pdf\n",
      "Processing: doc_2147.pdf\n",
      "Error processing doc_2147.pdf: EOF marker not found\n",
      "Processing: doc_289.pdf\n",
      "Processing: doc_101.pdf\n",
      "Processing: doc_1152.pdf\n",
      "Processing: doc_818.pdf\n",
      "Processing: doc_752.pdf\n",
      "Processing: doc_2240.pdf\n",
      "Error processing doc_2240.pdf: EOF marker not found\n",
      "Processing: doc_568.pdf\n",
      "Processing: doc_884.pdf\n",
      "Processing: doc_708.pdf\n",
      "Processing: doc_85.pdf\n"
     ]
    },
    {
     "name": "stderr",
     "output_type": "stream",
     "text": [
      "ignore '/Perms' verify failed\n"
     ]
    },
    {
     "name": "stdout",
     "output_type": "stream",
     "text": [
      "Processing: doc_2026.pdf\n",
      "Processing: doc_404.pdf\n",
      "Processing: doc_475.pdf\n",
      "Processing: doc_51.pdf\n",
      "Processing: doc_695.pdf\n",
      "Processing: doc_2199.pdf\n",
      "Processing: doc_2321.pdf\n",
      "Processing: doc_1388.pdf\n",
      "Error processing doc_1388.pdf: EOF marker not found\n",
      "Processing: doc_2444.pdf\n",
      "Processing: doc_499.pdf\n",
      "Processing: doc_2399.pdf\n",
      "Processing: doc_473.pdf\n",
      "Processing: doc_100.pdf\n",
      "Processing: doc_1623.pdf\n",
      "Processing: doc_176.pdf\n",
      "Processing: doc_329.pdf\n",
      "Processing: doc_771.pdf\n",
      "Processing: doc_620.pdf\n",
      "Processing: doc_479.pdf\n",
      "Error processing doc_479.pdf: EOF marker not found\n",
      "Processing: doc_1023.pdf\n",
      "Processing: doc_1292.pdf\n",
      "Error processing doc_1292.pdf: EOF marker not found\n",
      "Processing: doc_88.pdf\n",
      "Processing: doc_524.pdf\n",
      "Processing: doc_2414.pdf\n",
      "Processing: doc_1111.pdf\n",
      "Processing: doc_2246.pdf\n",
      "Processing: doc_371.pdf\n",
      "Processing: doc_768.pdf\n",
      "Processing: doc_2508.pdf\n",
      "Processing: doc_2163.pdf\n",
      "Error processing doc_2163.pdf: EOF marker not found\n",
      "Processing: doc_2102.pdf\n",
      "Processing: doc_1701.pdf\n",
      "Processing: doc_2329.pdf\n",
      "Processing: doc_621.pdf\n",
      "Processing: doc_1473.pdf\n",
      "Error processing doc_1473.pdf: EOF marker not found\n",
      "Processing: doc_1045.pdf\n",
      "Processing: doc_2257.pdf\n",
      "Processing: doc_453.pdf\n"
     ]
    },
    {
     "name": "stderr",
     "output_type": "stream",
     "text": [
      "Overwriting cache for 0 2498\n"
     ]
    },
    {
     "name": "stdout",
     "output_type": "stream",
     "text": [
      "Processing: doc_2356.pdf\n",
      "Processing: doc_906.pdf\n",
      "Error processing doc_906.pdf: EOF marker not found\n",
      "Processing: doc_1337.pdf\n",
      "Error processing doc_1337.pdf: EOF marker not found\n",
      "Processing: doc_1271.pdf\n",
      "Error processing doc_1271.pdf: EOF marker not found\n",
      "Processing: doc_1940.pdf\n",
      "Processing: doc_1983.pdf\n",
      "Processing: doc_1176.pdf\n",
      "Error processing doc_1176.pdf: EOF marker not found\n",
      "Processing: doc_2113.pdf\n",
      "Error processing doc_2113.pdf: EOF marker not found\n",
      "Processing: doc_174.pdf\n",
      "Processing: doc_558.pdf\n",
      "Processing: doc_505.pdf\n",
      "Processing: doc_888.pdf\n",
      "Processing: doc_933.pdf\n",
      "Error processing doc_933.pdf: EOF marker not found\n",
      "Processing: doc_24.pdf\n",
      "Processing: doc_1451.pdf\n",
      "Error processing doc_1451.pdf: EOF marker not found\n",
      "Processing: doc_641.pdf\n",
      "Processing: doc_1332.pdf\n",
      "Error processing doc_1332.pdf: EOF marker not found\n",
      "Processing: doc_1075.pdf\n",
      "Processing: doc_284.pdf\n",
      "Processing: doc_451.pdf\n",
      "Processing: doc_1305.pdf\n",
      "Error processing doc_1305.pdf: EOF marker not found\n",
      "Processing: doc_795.pdf\n",
      "Processing: doc_1988.pdf\n",
      "Processing: doc_1220.pdf\n",
      "Processing: doc_344.pdf\n",
      "Processing: doc_1221.pdf\n",
      "Processing: doc_575.pdf\n",
      "Processing: doc_1915.pdf\n",
      "Error processing doc_1915.pdf: EOF marker not found\n",
      "Processing: doc_217.pdf\n"
     ]
    },
    {
     "name": "stderr",
     "output_type": "stream",
     "text": [
      "ignore '/Perms' verify failed\n"
     ]
    },
    {
     "name": "stdout",
     "output_type": "stream",
     "text": [
      "Processing: doc_1275.pdf\n",
      "Processing: doc_886.pdf\n"
     ]
    },
    {
     "name": "stderr",
     "output_type": "stream",
     "text": [
      "ignore '/Perms' verify failed\n",
      "ignore '/Perms' verify failed\n"
     ]
    },
    {
     "name": "stdout",
     "output_type": "stream",
     "text": [
      "Processing: doc_2339.pdf\n",
      "Processing: doc_936.pdf\n",
      "Processing: doc_1098.pdf\n",
      "Processing: doc_1082.pdf\n",
      "Processing: doc_177.pdf\n",
      "Processing: doc_1450.pdf\n",
      "Error processing doc_1450.pdf: EOF marker not found\n",
      "Processing: doc_1917.pdf\n",
      "Processing: doc_921.pdf\n",
      "Processing: doc_106.pdf\n",
      "Processing: doc_640.pdf\n",
      "Processing: doc_2479.pdf\n",
      "Processing: doc_557.pdf\n",
      "Processing: doc_133.pdf\n",
      "Processing: doc_2017.pdf\n",
      "Processing: doc_940.pdf\n",
      "Processing: doc_171.pdf\n"
     ]
    },
    {
     "name": "stderr",
     "output_type": "stream",
     "text": [
      "ignore '/Perms' verify failed\n"
     ]
    },
    {
     "name": "stdout",
     "output_type": "stream",
     "text": [
      "Processing: doc_1564.pdf\n",
      "Processing: doc_1484.pdf\n",
      "Error processing doc_1484.pdf: EOF marker not found\n",
      "Processing: doc_2368.pdf\n",
      "Processing: doc_1161.pdf\n",
      "Processing: doc_87.pdf\n",
      "Processing: doc_744.pdf\n",
      "Processing: doc_2298.pdf\n",
      "Processing: doc_725.pdf\n"
     ]
    },
    {
     "name": "stderr",
     "output_type": "stream",
     "text": [
      "ignore '/Perms' verify failed\n"
     ]
    },
    {
     "name": "stdout",
     "output_type": "stream",
     "text": [
      "Processing: doc_934.pdf\n",
      "Processing: doc_2138.pdf\n",
      "Processing: doc_1465.pdf\n",
      "Error processing doc_1465.pdf: EOF marker not found\n",
      "Processing: doc_882.pdf\n",
      "Processing: doc_2323.pdf\n",
      "Error processing doc_2323.pdf: EOF marker not found\n",
      "Processing: doc_951.pdf\n",
      "Processing: doc_468.pdf\n",
      "Processing: doc_129.pdf\n",
      "Processing: doc_949.pdf\n",
      "Error processing doc_949.pdf: EOF marker not found\n",
      "Processing: doc_2116.pdf\n",
      "Error processing doc_2116.pdf: EOF marker not found\n",
      "Processing: doc_38.pdf\n",
      "Error processing doc_38.pdf: EOF marker not found\n",
      "Processing: doc_671.pdf\n",
      "Processing: doc_1180.pdf\n",
      "Error processing doc_1180.pdf: EOF marker not found\n",
      "Processing: doc_2428.pdf\n",
      "Processing: doc_1986.pdf\n",
      "Processing: doc_45.pdf\n",
      "Processing: doc_53.pdf\n",
      "Processing: doc_2480.pdf\n",
      "Error processing doc_2480.pdf: EOF marker not found\n",
      "Processing: doc_1498.pdf\n",
      "Error processing doc_1498.pdf: EOF marker not found\n",
      "Processing: doc_863.pdf\n",
      "Processing: doc_2406.pdf\n",
      "Processing: doc_777.pdf\n",
      "Processing: doc_1007.pdf\n",
      "Processing: doc_1441.pdf\n",
      "Error processing doc_1441.pdf: EOF marker not found\n",
      "Processing: doc_826.pdf\n",
      "Processing: doc_627.pdf\n",
      "Processing: doc_1970.pdf\n",
      "Processing: doc_646.pdf\n",
      "Processing: doc_1938.pdf\n",
      "Processing: doc_2225.pdf\n",
      "Processing: doc_80.pdf\n",
      "Processing: doc_92.pdf\n",
      "Processing: doc_2271.pdf\n",
      "Processing: doc_941.pdf\n",
      "Processing: doc_552.pdf\n",
      "Processing: doc_1288.pdf\n",
      "Error processing doc_1288.pdf: EOF marker not found\n",
      "Processing: doc_2194.pdf\n",
      "Processing: doc_764.pdf\n",
      "Processing: doc_698.pdf\n",
      "Processing: doc_881.pdf\n",
      "Processing: doc_2427.pdf\n",
      "Processing: doc_857.pdf\n"
     ]
    },
    {
     "name": "stderr",
     "output_type": "stream",
     "text": [
      "ignore '/Perms' verify failed\n"
     ]
    },
    {
     "name": "stdout",
     "output_type": "stream",
     "text": [
      "Processing: doc_1324.pdf\n",
      "Error processing doc_1324.pdf: EOF marker not found\n",
      "Processing: doc_2184.pdf\n",
      "Processing: doc_1325.pdf\n",
      "Error processing doc_1325.pdf: EOF marker not found\n",
      "\n",
      "Extraction Summary:\n",
      "Total PDFs processed: 1653\n",
      "Successfully extracted: 1283\n",
      "Failed: 370\n"
     ]
    }
   ],
   "source": [
    "pdf_dir = \"/home/ /workdir/document_classification/data/train_pdfs\"\n",
    "df_results_train = extract_text_from_pdfs(pdf_dir)\n"
   ]
  },
  {
   "cell_type": "code",
   "execution_count": 20,
   "metadata": {},
   "outputs": [
    {
     "data": {
      "text/plain": [
       "365"
      ]
     },
     "execution_count": 20,
     "metadata": {},
     "output_type": "execute_result"
    }
   ],
   "source": [
    "sum(df_results_train[\"status\"] == \"Success\")"
   ]
  },
  {
   "cell_type": "code",
   "execution_count": 18,
   "metadata": {},
   "outputs": [
    {
     "data": {
      "text/plain": [
       "array(['Failed: EOF marker not found', 'Success',\n",
       "       'Failed: Cannot read an empty file'], dtype=object)"
      ]
     },
     "execution_count": 18,
     "metadata": {},
     "output_type": "execute_result"
    }
   ],
   "source": [
    "df_results_train[\"status\"].unique()"
   ]
  },
  {
   "cell_type": "code",
   "execution_count": 21,
   "metadata": {},
   "outputs": [
    {
     "data": {
      "text/html": [
       "<div>\n",
       "<style scoped>\n",
       "    .dataframe tbody tr th:only-of-type {\n",
       "        vertical-align: middle;\n",
       "    }\n",
       "\n",
       "    .dataframe tbody tr th {\n",
       "        vertical-align: top;\n",
       "    }\n",
       "\n",
       "    .dataframe thead th {\n",
       "        text-align: right;\n",
       "    }\n",
       "</style>\n",
       "<table border=\"1\" class=\"dataframe\">\n",
       "  <thead>\n",
       "    <tr style=\"text-align: right;\">\n",
       "      <th></th>\n",
       "      <th>filename</th>\n",
       "      <th>num_pages</th>\n",
       "      <th>text</th>\n",
       "      <th>status</th>\n",
       "    </tr>\n",
       "  </thead>\n",
       "  <tbody>\n",
       "    <tr>\n",
       "      <th>0</th>\n",
       "      <td>doc_1329.pdf</td>\n",
       "      <td>NaN</td>\n",
       "      <td>None</td>\n",
       "      <td>Failed: EOF marker not found</td>\n",
       "    </tr>\n",
       "    <tr>\n",
       "      <th>2</th>\n",
       "      <td>doc_915.pdf</td>\n",
       "      <td>NaN</td>\n",
       "      <td>None</td>\n",
       "      <td>Failed: EOF marker not found</td>\n",
       "    </tr>\n",
       "    <tr>\n",
       "      <th>3</th>\n",
       "      <td>doc_1459.pdf</td>\n",
       "      <td>NaN</td>\n",
       "      <td>None</td>\n",
       "      <td>Failed: EOF marker not found</td>\n",
       "    </tr>\n",
       "    <tr>\n",
       "      <th>4</th>\n",
       "      <td>doc_1475.pdf</td>\n",
       "      <td>NaN</td>\n",
       "      <td>None</td>\n",
       "      <td>Failed: EOF marker not found</td>\n",
       "    </tr>\n",
       "    <tr>\n",
       "      <th>9</th>\n",
       "      <td>doc_1370.pdf</td>\n",
       "      <td>NaN</td>\n",
       "      <td>None</td>\n",
       "      <td>Failed: EOF marker not found</td>\n",
       "    </tr>\n",
       "    <tr>\n",
       "      <th>10</th>\n",
       "      <td>doc_1389.pdf</td>\n",
       "      <td>NaN</td>\n",
       "      <td>None</td>\n",
       "      <td>Failed: EOF marker not found</td>\n",
       "    </tr>\n",
       "    <tr>\n",
       "      <th>18</th>\n",
       "      <td>doc_1438.pdf</td>\n",
       "      <td>NaN</td>\n",
       "      <td>None</td>\n",
       "      <td>Failed: EOF marker not found</td>\n",
       "    </tr>\n",
       "    <tr>\n",
       "      <th>23</th>\n",
       "      <td>doc_2334.pdf</td>\n",
       "      <td>NaN</td>\n",
       "      <td>None</td>\n",
       "      <td>Failed: EOF marker not found</td>\n",
       "    </tr>\n",
       "    <tr>\n",
       "      <th>26</th>\n",
       "      <td>doc_2244.pdf</td>\n",
       "      <td>NaN</td>\n",
       "      <td>None</td>\n",
       "      <td>Failed: EOF marker not found</td>\n",
       "    </tr>\n",
       "    <tr>\n",
       "      <th>27</th>\n",
       "      <td>doc_150.pdf</td>\n",
       "      <td>NaN</td>\n",
       "      <td>None</td>\n",
       "      <td>Failed: EOF marker not found</td>\n",
       "    </tr>\n",
       "  </tbody>\n",
       "</table>\n",
       "</div>"
      ],
      "text/plain": [
       "        filename  num_pages  text                        status\n",
       "0   doc_1329.pdf        NaN  None  Failed: EOF marker not found\n",
       "2    doc_915.pdf        NaN  None  Failed: EOF marker not found\n",
       "3   doc_1459.pdf        NaN  None  Failed: EOF marker not found\n",
       "4   doc_1475.pdf        NaN  None  Failed: EOF marker not found\n",
       "9   doc_1370.pdf        NaN  None  Failed: EOF marker not found\n",
       "10  doc_1389.pdf        NaN  None  Failed: EOF marker not found\n",
       "18  doc_1438.pdf        NaN  None  Failed: EOF marker not found\n",
       "23  doc_2334.pdf        NaN  None  Failed: EOF marker not found\n",
       "26  doc_2244.pdf        NaN  None  Failed: EOF marker not found\n",
       "27   doc_150.pdf        NaN  None  Failed: EOF marker not found"
      ]
     },
     "execution_count": 21,
     "metadata": {},
     "output_type": "execute_result"
    }
   ],
   "source": [
    "df_results_train[df_results_train[\"status\"] == \"Failed: EOF marker not found\"].head(10)"
   ]
  },
  {
   "cell_type": "code",
   "execution_count": 22,
   "metadata": {},
   "outputs": [],
   "source": [
    "\n",
    "df_results_train.to_csv(\n",
    "    \"/home/ /workdir/document_classification/data/v0/train/pdf_extraction_pypdf2_results_train.csv\",\n",
    "    index=False,\n",
    ")\n"
   ]
  },
  {
   "cell_type": "code",
   "execution_count": 23,
   "metadata": {},
   "outputs": [],
   "source": [
    "from sklearn.feature_extraction.text import TfidfVectorizer\n",
    "\n",
    "vectorizer = TfidfVectorizer(max_features=5000)\n",
    "X_train = vectorizer.fit_transform(\n",
    "    df_results_train[df_results_train[\"status\"] == \"Success\"][\"text\"]\n",
    ").toarray()"
   ]
  },
  {
   "cell_type": "code",
   "execution_count": 26,
   "metadata": {},
   "outputs": [
    {
     "data": {
      "text/plain": [
       "array([0.02554551, 0.        , 0.        , ..., 0.        , 0.        ,\n",
       "       0.        ])"
      ]
     },
     "execution_count": 26,
     "metadata": {},
     "output_type": "execute_result"
    }
   ],
   "source": [
    "X_train[0]"
   ]
  }
 ],
 "metadata": {
  "kernelspec": {
   "display_name": "tags_benchmarking_env",
   "language": "python",
   "name": "python3"
  },
  "language_info": {
   "codemirror_mode": {
    "name": "ipython",
    "version": 3
   },
   "file_extension": ".py",
   "mimetype": "text/x-python",
   "name": "python",
   "nbconvert_exporter": "python",
   "pygments_lexer": "ipython3",
   "version": "3.12.7"
  }
 },
 "nbformat": 4,
 "nbformat_minor": 2
}
